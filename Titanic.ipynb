{
  "nbformat": 4,
  "nbformat_minor": 0,
  "metadata": {
    "colab": {
      "name": "Titanic.ipynb",
      "provenance": [],
      "toc_visible": true,
      "authorship_tag": "ABX9TyNgEAAGAruyKN7f0Bz7yOpf",
      "include_colab_link": true
    },
    "kernelspec": {
      "name": "python3",
      "display_name": "Python 3"
    },
    "language_info": {
      "name": "python"
    }
  },
  "cells": [
    {
      "cell_type": "markdown",
      "metadata": {
        "id": "view-in-github",
        "colab_type": "text"
      },
      "source": [
        "<a href=\"https://colab.research.google.com/github/githubforkj/ML-study/blob/main/Titanic.ipynb\" target=\"_parent\"><img src=\"https://colab.research.google.com/assets/colab-badge.svg\" alt=\"Open In Colab\"/></a>"
      ]
    },
    {
      "cell_type": "markdown",
      "source": [
        "## 概要"
      ],
      "metadata": {
        "id": "Mqxwfqbk_eKq"
      }
    },
    {
      "cell_type": "markdown",
      "source": [
        "- [達人データサイエンティストの機械学習](https://www.amazon.co.jp/Python-%E6%A9%9F%E6%A2%B0%E5%AD%A6%E7%BF%92%E3%83%97%E3%83%AD%E3%82%B0%E3%83%A9%E3%83%9F%E3%83%B3%E3%82%B0-%E9%81%94%E4%BA%BA%E3%83%87%E3%83%BC%E3%82%BF%E3%82%B5%E3%82%A4%E3%82%A8%E3%83%B3%E3%83%86%E3%82%A3%E3%82%B9%E3%83%88%E3%81%AB%E3%82%88%E3%82%8B%E7%90%86%E8%AB%96%E3%81%A8%E5%AE%9F%E8%B7%B5-impress-gear/dp/4295003379)の1~3章をタイタニックのデータでやってみる\n",
        "- ~と、いきなりやるのがきつかったのでSIGNATEのチュートリアルをやってみる~:**DONE**\n",
        "\n",
        "- SIGNATEのTitanicコンペは[こちら](https://signate.jp/competitions/102)\n"
      ],
      "metadata": {
        "id": "6CHxyzN7_g89"
      }
    },
    {
      "cell_type": "markdown",
      "source": [
        "# 各種設定"
      ],
      "metadata": {
        "id": "06iUfm92ZQmY"
      }
    },
    {
      "cell_type": "markdown",
      "source": [
        "## 準備\n"
      ],
      "metadata": {
        "id": "A7ltr5MgSjQK"
      }
    },
    {
      "cell_type": "markdown",
      "source": [
        "ダウンロードのためのコマンドラインツールをインストール"
      ],
      "metadata": {
        "id": "lZmDNf_qSrYj"
      }
    },
    {
      "cell_type": "code",
      "execution_count": null,
      "metadata": {
        "colab": {
          "base_uri": "https://localhost:8080/",
          "height": 766
        },
        "id": "WM_ONWDaSWI4",
        "outputId": "3c98f2e9-b2ab-467e-88fb-b91df2d973c3"
      },
      "outputs": [
        {
          "output_type": "stream",
          "name": "stdout",
          "text": [
            "Looking in indexes: https://pypi.org/simple, https://us-python.pkg.dev/colab-wheels/public/simple/\n",
            "Collecting signate\n",
            "  Downloading signate-0.9.9-py3-none-any.whl (37 kB)\n",
            "Collecting urllib3>=1.26.7\n",
            "  Downloading urllib3-1.26.10-py2.py3-none-any.whl (139 kB)\n",
            "\u001b[K     |████████████████████████████████| 139 kB 11.3 MB/s \n",
            "\u001b[?25hRequirement already satisfied: python-dateutil in /usr/local/lib/python3.7/dist-packages (from signate) (2.8.2)\n",
            "Requirement already satisfied: tabulate in /usr/local/lib/python3.7/dist-packages (from signate) (0.8.10)\n",
            "Collecting wget\n",
            "  Downloading wget-3.2.zip (10 kB)\n",
            "Requirement already satisfied: certifi in /usr/local/lib/python3.7/dist-packages (from signate) (2022.6.15)\n",
            "Collecting six>=1.16\n",
            "  Downloading six-1.16.0-py2.py3-none-any.whl (11 kB)\n",
            "Requirement already satisfied: click in /usr/local/lib/python3.7/dist-packages (from signate) (7.1.2)\n",
            "Building wheels for collected packages: wget\n",
            "  Building wheel for wget (setup.py) ... \u001b[?25l\u001b[?25hdone\n",
            "  Created wheel for wget: filename=wget-3.2-py3-none-any.whl size=9675 sha256=b1fdb1f7da9f2d523e74e27e69e28e62973702969faf80e72d9cd67b0b734871\n",
            "  Stored in directory: /root/.cache/pip/wheels/a1/b6/7c/0e63e34eb06634181c63adacca38b79ff8f35c37e3c13e3c02\n",
            "Successfully built wget\n",
            "Installing collected packages: six, wget, urllib3, signate\n",
            "  Attempting uninstall: six\n",
            "    Found existing installation: six 1.15.0\n",
            "    Uninstalling six-1.15.0:\n",
            "      Successfully uninstalled six-1.15.0\n",
            "  Attempting uninstall: urllib3\n",
            "    Found existing installation: urllib3 1.24.3\n",
            "    Uninstalling urllib3-1.24.3:\n",
            "      Successfully uninstalled urllib3-1.24.3\n",
            "\u001b[31mERROR: pip's dependency resolver does not currently take into account all the packages that are installed. This behaviour is the source of the following dependency conflicts.\n",
            "requests 2.23.0 requires urllib3!=1.25.0,!=1.25.1,<1.26,>=1.21.1, but you have urllib3 1.26.10 which is incompatible.\n",
            "google-colab 1.0.0 requires six~=1.15.0, but you have six 1.16.0 which is incompatible.\n",
            "datascience 0.10.6 requires folium==0.2.1, but you have folium 0.8.3 which is incompatible.\n",
            "albumentations 0.1.12 requires imgaug<0.2.7,>=0.2.5, but you have imgaug 0.2.9 which is incompatible.\u001b[0m\n",
            "Successfully installed signate-0.9.9 six-1.16.0 urllib3-1.26.10 wget-3.2\n"
          ]
        },
        {
          "output_type": "display_data",
          "data": {
            "application/vnd.colab-display-data+json": {
              "pip_warning": {
                "packages": [
                  "six"
                ]
              }
            }
          },
          "metadata": {}
        },
        {
          "output_type": "stream",
          "name": "stderr",
          "text": [
            "/usr/local/lib/python3.7/dist-packages/requests/__init__.py:91: RequestsDependencyWarning: urllib3 (1.26.10) or chardet (3.0.4) doesn't match a supported version!\n",
            "  RequestsDependencyWarning)\n"
          ]
        },
        {
          "output_type": "stream",
          "name": "stdout",
          "text": [
            "Download 100%.\n"
          ]
        }
      ],
      "source": [
        "!pip install signate\n",
        "\n",
        "from googleapiclient.discovery import build\n",
        "import io, os\n",
        "from googleapiclient.http import MediaIoBaseDownload\n",
        "from google.colab import auth\n",
        "\n",
        "\n",
        "auth.authenticate_user()\n",
        "\n",
        "drive_service = build('drive', 'v3')\n",
        "results = drive_service.files().list(\n",
        "        q=\"name = 'signate.json'\", fields=\"files(id)\").execute()\n",
        "signate_api_key = results.get('files', [])\n",
        "\n",
        "filename = \"/root/.signate/signate.json\"\n",
        "os.makedirs(os.path.dirname(filename), exist_ok=True)\n",
        "\n",
        "request = drive_service.files().get_media(fileId=signate_api_key[0]['id'])\n",
        "fh = io.FileIO(filename, 'wb')\n",
        "downloader = MediaIoBaseDownload(fh, request)\n",
        "done = False\n",
        "while done is False:\n",
        "    status, done = downloader.next_chunk()\n",
        "    print(\"Download %d%%.\" % int(status.progress() * 100))\n",
        "os.chmod(filename, 600)"
      ]
    },
    {
      "cell_type": "code",
      "source": [
        "# コンペIDを表示させる\n",
        "# !signate list"
      ],
      "metadata": {
        "id": "2fPiIl8PS6oz"
      },
      "execution_count": null,
      "outputs": []
    },
    {
      "cell_type": "code",
      "source": [
        "# コンペのデータをダウンロード\n",
        "!signate download --competition-id={102}"
      ],
      "metadata": {
        "colab": {
          "base_uri": "https://localhost:8080/"
        },
        "id": "LLMopJoQWK10",
        "outputId": "f5ec92a2-9e79-426f-ebb2-8cc3e5d430eb"
      },
      "execution_count": null,
      "outputs": [
        {
          "output_type": "stream",
          "name": "stdout",
          "text": [
            "sample_submit.tsv\n",
            "\n",
            "test.tsv\n",
            "\n",
            "train.tsv\n",
            "\n",
            "\u001b[32m\n",
            "Download completed.\u001b[0m\n"
          ]
        }
      ]
    },
    {
      "cell_type": "code",
      "source": [
        "# ドライブのマウント\n",
        "from google.colab import drive\n",
        "drive.mount('/content/drive')"
      ],
      "metadata": {
        "colab": {
          "base_uri": "https://localhost:8080/"
        },
        "id": "N5N4VGiVGL9C",
        "outputId": "b7f9e6a6-0e43-4a30-dcf3-d975e18b20f6"
      },
      "execution_count": null,
      "outputs": [
        {
          "output_type": "stream",
          "name": "stdout",
          "text": [
            "Mounted at /content/drive\n"
          ]
        }
      ]
    },
    {
      "cell_type": "markdown",
      "source": [
        "### データの中身を確認する\n",
        "\n",
        "---\n",
        "\n",
        "- テストデータと訓練データは半分(450位)に分割されている"
      ],
      "metadata": {
        "id": "2cagHXIRSO-Y"
      }
    },
    {
      "cell_type": "markdown",
      "source": [
        "#### テストデータ"
      ],
      "metadata": {
        "id": "u_akLX8nSXzB"
      }
    },
    {
      "cell_type": "code",
      "source": [
        "import os\n",
        "import pandas as pd\n",
        "\n",
        "test = '/content/test.tsv'\n",
        "\n",
        "\n",
        "test_df = pd.read_csv(test, sep=\"\\t\",index_col=0)\n",
        "\n",
        "\n",
        "# test_df.head()\n",
        "test_df.tail()\n",
        "\n",
        "print(\"test_df.values:\")\n",
        "print(test_df.values)\n",
        "print(\"type(test_df.values):\",type(test_df.values))"
      ],
      "metadata": {
        "id": "B3MuXeYrWRtn",
        "colab": {
          "base_uri": "https://localhost:8080/"
        },
        "outputId": "4023b81a-3bfa-4c98-b4d2-7bb38d340ebb"
      },
      "execution_count": null,
      "outputs": [
        {
          "output_type": "stream",
          "name": "stdout",
          "text": [
            "test_df.values:\n",
            "[[3 'male' 22.0 ... 0 7.25 'S']\n",
            " [1 'female' 38.0 ... 0 71.2833 'C']\n",
            " [3 'female' 26.0 ... 0 7.925 'S']\n",
            " ...\n",
            " [1 'female' 19.0 ... 0 30.0 'S']\n",
            " [1 'male' 26.0 ... 0 30.0 'C']\n",
            " [3 'male' 32.0 ... 0 7.75 'Q']]\n",
            "type(test_df.values): <class 'numpy.ndarray'>\n"
          ]
        }
      ]
    },
    {
      "cell_type": "markdown",
      "source": [
        "#### 訓練データ"
      ],
      "metadata": {
        "id": "bLsYu2h9SXqM"
      }
    },
    {
      "cell_type": "code",
      "source": [
        "train = '/content/train.tsv'\n",
        "train_df = pd.read_csv(train, sep=\"\\t\",index_col=0)\n",
        "train_df.head()\n",
        "# train_df.tail()\n",
        "\n",
        "# print(\"train_df.values:\")\n",
        "# print(train_df.values)\n",
        "# print(\"type(train_df.values):\",type(train_df.values))"
      ],
      "metadata": {
        "colab": {
          "base_uri": "https://localhost:8080/",
          "height": 237
        },
        "id": "GuBHiTmfG-uZ",
        "outputId": "41989453-ebbc-4c66-b035-2be680560c98"
      },
      "execution_count": null,
      "outputs": [
        {
          "output_type": "execute_result",
          "data": {
            "text/plain": [
              "    survived  pclass     sex   age  sibsp  parch     fare embarked\n",
              "id                                                                \n",
              "3          1       1  female  35.0      1      0  53.1000        S\n",
              "4          0       3    male  35.0      0      0   8.0500        S\n",
              "7          0       3    male   2.0      3      1  21.0750        S\n",
              "9          1       2  female  14.0      1      0  30.0708        C\n",
              "11         1       1  female  58.0      0      0  26.5500        S"
            ],
            "text/html": [
              "\n",
              "  <div id=\"df-d022022f-9a31-4ccc-b7c3-9f18306deba5\">\n",
              "    <div class=\"colab-df-container\">\n",
              "      <div>\n",
              "<style scoped>\n",
              "    .dataframe tbody tr th:only-of-type {\n",
              "        vertical-align: middle;\n",
              "    }\n",
              "\n",
              "    .dataframe tbody tr th {\n",
              "        vertical-align: top;\n",
              "    }\n",
              "\n",
              "    .dataframe thead th {\n",
              "        text-align: right;\n",
              "    }\n",
              "</style>\n",
              "<table border=\"1\" class=\"dataframe\">\n",
              "  <thead>\n",
              "    <tr style=\"text-align: right;\">\n",
              "      <th></th>\n",
              "      <th>survived</th>\n",
              "      <th>pclass</th>\n",
              "      <th>sex</th>\n",
              "      <th>age</th>\n",
              "      <th>sibsp</th>\n",
              "      <th>parch</th>\n",
              "      <th>fare</th>\n",
              "      <th>embarked</th>\n",
              "    </tr>\n",
              "    <tr>\n",
              "      <th>id</th>\n",
              "      <th></th>\n",
              "      <th></th>\n",
              "      <th></th>\n",
              "      <th></th>\n",
              "      <th></th>\n",
              "      <th></th>\n",
              "      <th></th>\n",
              "      <th></th>\n",
              "    </tr>\n",
              "  </thead>\n",
              "  <tbody>\n",
              "    <tr>\n",
              "      <th>3</th>\n",
              "      <td>1</td>\n",
              "      <td>1</td>\n",
              "      <td>female</td>\n",
              "      <td>35.0</td>\n",
              "      <td>1</td>\n",
              "      <td>0</td>\n",
              "      <td>53.1000</td>\n",
              "      <td>S</td>\n",
              "    </tr>\n",
              "    <tr>\n",
              "      <th>4</th>\n",
              "      <td>0</td>\n",
              "      <td>3</td>\n",
              "      <td>male</td>\n",
              "      <td>35.0</td>\n",
              "      <td>0</td>\n",
              "      <td>0</td>\n",
              "      <td>8.0500</td>\n",
              "      <td>S</td>\n",
              "    </tr>\n",
              "    <tr>\n",
              "      <th>7</th>\n",
              "      <td>0</td>\n",
              "      <td>3</td>\n",
              "      <td>male</td>\n",
              "      <td>2.0</td>\n",
              "      <td>3</td>\n",
              "      <td>1</td>\n",
              "      <td>21.0750</td>\n",
              "      <td>S</td>\n",
              "    </tr>\n",
              "    <tr>\n",
              "      <th>9</th>\n",
              "      <td>1</td>\n",
              "      <td>2</td>\n",
              "      <td>female</td>\n",
              "      <td>14.0</td>\n",
              "      <td>1</td>\n",
              "      <td>0</td>\n",
              "      <td>30.0708</td>\n",
              "      <td>C</td>\n",
              "    </tr>\n",
              "    <tr>\n",
              "      <th>11</th>\n",
              "      <td>1</td>\n",
              "      <td>1</td>\n",
              "      <td>female</td>\n",
              "      <td>58.0</td>\n",
              "      <td>0</td>\n",
              "      <td>0</td>\n",
              "      <td>26.5500</td>\n",
              "      <td>S</td>\n",
              "    </tr>\n",
              "  </tbody>\n",
              "</table>\n",
              "</div>\n",
              "      <button class=\"colab-df-convert\" onclick=\"convertToInteractive('df-d022022f-9a31-4ccc-b7c3-9f18306deba5')\"\n",
              "              title=\"Convert this dataframe to an interactive table.\"\n",
              "              style=\"display:none;\">\n",
              "        \n",
              "  <svg xmlns=\"http://www.w3.org/2000/svg\" height=\"24px\"viewBox=\"0 0 24 24\"\n",
              "       width=\"24px\">\n",
              "    <path d=\"M0 0h24v24H0V0z\" fill=\"none\"/>\n",
              "    <path d=\"M18.56 5.44l.94 2.06.94-2.06 2.06-.94-2.06-.94-.94-2.06-.94 2.06-2.06.94zm-11 1L8.5 8.5l.94-2.06 2.06-.94-2.06-.94L8.5 2.5l-.94 2.06-2.06.94zm10 10l.94 2.06.94-2.06 2.06-.94-2.06-.94-.94-2.06-.94 2.06-2.06.94z\"/><path d=\"M17.41 7.96l-1.37-1.37c-.4-.4-.92-.59-1.43-.59-.52 0-1.04.2-1.43.59L10.3 9.45l-7.72 7.72c-.78.78-.78 2.05 0 2.83L4 21.41c.39.39.9.59 1.41.59.51 0 1.02-.2 1.41-.59l7.78-7.78 2.81-2.81c.8-.78.8-2.07 0-2.86zM5.41 20L4 18.59l7.72-7.72 1.47 1.35L5.41 20z\"/>\n",
              "  </svg>\n",
              "      </button>\n",
              "      \n",
              "  <style>\n",
              "    .colab-df-container {\n",
              "      display:flex;\n",
              "      flex-wrap:wrap;\n",
              "      gap: 12px;\n",
              "    }\n",
              "\n",
              "    .colab-df-convert {\n",
              "      background-color: #E8F0FE;\n",
              "      border: none;\n",
              "      border-radius: 50%;\n",
              "      cursor: pointer;\n",
              "      display: none;\n",
              "      fill: #1967D2;\n",
              "      height: 32px;\n",
              "      padding: 0 0 0 0;\n",
              "      width: 32px;\n",
              "    }\n",
              "\n",
              "    .colab-df-convert:hover {\n",
              "      background-color: #E2EBFA;\n",
              "      box-shadow: 0px 1px 2px rgba(60, 64, 67, 0.3), 0px 1px 3px 1px rgba(60, 64, 67, 0.15);\n",
              "      fill: #174EA6;\n",
              "    }\n",
              "\n",
              "    [theme=dark] .colab-df-convert {\n",
              "      background-color: #3B4455;\n",
              "      fill: #D2E3FC;\n",
              "    }\n",
              "\n",
              "    [theme=dark] .colab-df-convert:hover {\n",
              "      background-color: #434B5C;\n",
              "      box-shadow: 0px 1px 3px 1px rgba(0, 0, 0, 0.15);\n",
              "      filter: drop-shadow(0px 1px 2px rgba(0, 0, 0, 0.3));\n",
              "      fill: #FFFFFF;\n",
              "    }\n",
              "  </style>\n",
              "\n",
              "      <script>\n",
              "        const buttonEl =\n",
              "          document.querySelector('#df-d022022f-9a31-4ccc-b7c3-9f18306deba5 button.colab-df-convert');\n",
              "        buttonEl.style.display =\n",
              "          google.colab.kernel.accessAllowed ? 'block' : 'none';\n",
              "\n",
              "        async function convertToInteractive(key) {\n",
              "          const element = document.querySelector('#df-d022022f-9a31-4ccc-b7c3-9f18306deba5');\n",
              "          const dataTable =\n",
              "            await google.colab.kernel.invokeFunction('convertToInteractive',\n",
              "                                                     [key], {});\n",
              "          if (!dataTable) return;\n",
              "\n",
              "          const docLinkHtml = 'Like what you see? Visit the ' +\n",
              "            '<a target=\"_blank\" href=https://colab.research.google.com/notebooks/data_table.ipynb>data table notebook</a>'\n",
              "            + ' to learn more about interactive tables.';\n",
              "          element.innerHTML = '';\n",
              "          dataTable['output_type'] = 'display_data';\n",
              "          await google.colab.output.renderOutput(dataTable, element);\n",
              "          const docLink = document.createElement('div');\n",
              "          docLink.innerHTML = docLinkHtml;\n",
              "          element.appendChild(docLink);\n",
              "        }\n",
              "      </script>\n",
              "    </div>\n",
              "  </div>\n",
              "  "
            ]
          },
          "metadata": {},
          "execution_count": 6
        }
      ]
    },
    {
      "cell_type": "markdown",
      "source": [
        "#### 訓練データをプロットしてみる\n",
        "\n",
        ">(自力で試みたが、何か有意義なことが出来た気がしない。以下チュートリアルを実行)"
      ],
      "metadata": {
        "id": "4PX82DGGSwe8"
      }
    },
    {
      "cell_type": "code",
      "source": [
        "# %matplotlib inline\n",
        "# import matplotlib.pyplot as plt\n",
        "# import numpy as np\n",
        "\n",
        "# # 1行目の[id,survived,pclass,sex,age,sibsp,parch,fare,embarked]を削除し、データ型を加工できるようにする\n",
        "# # train_df.drop([0], inplace=True)\n",
        "# # 欠損値があり、可視化できないため、欠損値を0で代替する\n",
        "# train_df.fillna(0, inplace=True)\n",
        "\n",
        "\n",
        "# # 訓練データから、二つの特徴量(年齢と料金)を抽出する\n",
        "# # yのようにdataframeから直接抽出するとmatplotlibで可視化できなかったため、ageとfareをint型に整形し、配列に格納する\n",
        "# float_fare = train_df[7].astype(float)\n",
        "# int_fare = float_fare.astype(int)\n",
        "# float_age = train_df[4].astype(float)\n",
        "# int_age = float_age.astype(int)\n",
        "# int_survived = train_df[1].astype(int)\n",
        "\n",
        "\n",
        "# # sur_age_fareにそれぞれ[survived,age,fare]の形式でndarrayで格納する\n",
        "# sur_age_fare = pd.concat([int_survived,int_age,int_fare], axis=1)\n",
        "# sur_age_fare = np.array(sur_age_fare)\n",
        "# print(\"type(age_fare):\",type(sur_age_fare))\n",
        "# print(\"age_fare.shape:\",sur_age_fare.shape)\n",
        "# print(\"age_fare.size:\",sur_age_fare.size)\n",
        "# # print(\"sur_age_fare:\",sur_age_fare)\n",
        "\n",
        "\n",
        "# l=np.empty((0,3),dtype=int)\n",
        "# d=np.empty((0,3),dtype=int)\n",
        "\n",
        "# print(l)\n",
        "# # 生き残った人を配列l、亡くなった人を配列dに格納する\n",
        "# # np.appendでは、l=np.append...といったような形で書かないと追加されない点に注意.\n",
        "# for a in sur_age_fare:\n",
        "#   # print(a.ndim)\n",
        "#   if a[0] == 1:\n",
        "#     l = np.append(l,np.array([a]),axis=0)\n",
        "#   if a[0] == 0:\n",
        "#     d = np.append(d,np.array([a]),axis=0)\n",
        "# print(\"l.shape:\",l.shape)\n",
        "# print(\"d.shape:\",d.shape)\n",
        "\n",
        "\n",
        "# # データを散布図にプロットする\n",
        "# plt.scatter(l[0:179, 1], l[0:179, 2],color='blue', marker='o', label='servived')\n",
        "# plt.scatter(d[0:266,1],d[0:266,2],color='r', marker='x', label='non-servived')\n",
        "\n",
        "# plt.xlabel('age')\n",
        "# plt.ylabel('fare')\n",
        "# plt.legend(loc='upper left')\n",
        "\n",
        "# # # plt.savefig('images/02_06.png', dpi=300)\n",
        "# plt.show()"
      ],
      "metadata": {
        "id": "750qvtMIRr0A"
      },
      "execution_count": null,
      "outputs": []
    },
    {
      "cell_type": "code",
      "source": [
        ""
      ],
      "metadata": {
        "id": "Uhil_vngDHXJ"
      },
      "execution_count": null,
      "outputs": []
    },
    {
      "cell_type": "markdown",
      "source": [
        "## チュートリアル入門編(SIGNATE)\n",
        "\n",
        "\n",
        "> https://signate.jp/competitions/102/tutorials/23\n",
        "\n"
      ],
      "metadata": {
        "id": "K9E2S5oEFV73"
      }
    },
    {
      "cell_type": "markdown",
      "source": [
        "#### 準備と簡単な分析"
      ],
      "metadata": {
        "id": "wPNNsFJCK4hW"
      }
    },
    {
      "cell_type": "code",
      "source": [
        "train_df.head()"
      ],
      "metadata": {
        "colab": {
          "base_uri": "https://localhost:8080/",
          "height": 237
        },
        "id": "JTmxvnitGt0D",
        "outputId": "309c1ffb-41e1-457f-f1d7-8f3ec74e47d5"
      },
      "execution_count": null,
      "outputs": [
        {
          "output_type": "execute_result",
          "data": {
            "text/plain": [
              "    survived  pclass     sex   age  sibsp  parch     fare embarked\n",
              "id                                                                \n",
              "3          1       1  female  35.0      1      0  53.1000        S\n",
              "4          0       3    male  35.0      0      0   8.0500        S\n",
              "7          0       3    male   2.0      3      1  21.0750        S\n",
              "9          1       2  female  14.0      1      0  30.0708        C\n",
              "11         1       1  female  58.0      0      0  26.5500        S"
            ],
            "text/html": [
              "\n",
              "  <div id=\"df-8c29635d-a1b6-4fc7-8727-11ce89c939c8\">\n",
              "    <div class=\"colab-df-container\">\n",
              "      <div>\n",
              "<style scoped>\n",
              "    .dataframe tbody tr th:only-of-type {\n",
              "        vertical-align: middle;\n",
              "    }\n",
              "\n",
              "    .dataframe tbody tr th {\n",
              "        vertical-align: top;\n",
              "    }\n",
              "\n",
              "    .dataframe thead th {\n",
              "        text-align: right;\n",
              "    }\n",
              "</style>\n",
              "<table border=\"1\" class=\"dataframe\">\n",
              "  <thead>\n",
              "    <tr style=\"text-align: right;\">\n",
              "      <th></th>\n",
              "      <th>survived</th>\n",
              "      <th>pclass</th>\n",
              "      <th>sex</th>\n",
              "      <th>age</th>\n",
              "      <th>sibsp</th>\n",
              "      <th>parch</th>\n",
              "      <th>fare</th>\n",
              "      <th>embarked</th>\n",
              "    </tr>\n",
              "    <tr>\n",
              "      <th>id</th>\n",
              "      <th></th>\n",
              "      <th></th>\n",
              "      <th></th>\n",
              "      <th></th>\n",
              "      <th></th>\n",
              "      <th></th>\n",
              "      <th></th>\n",
              "      <th></th>\n",
              "    </tr>\n",
              "  </thead>\n",
              "  <tbody>\n",
              "    <tr>\n",
              "      <th>3</th>\n",
              "      <td>1</td>\n",
              "      <td>1</td>\n",
              "      <td>female</td>\n",
              "      <td>35.0</td>\n",
              "      <td>1</td>\n",
              "      <td>0</td>\n",
              "      <td>53.1000</td>\n",
              "      <td>S</td>\n",
              "    </tr>\n",
              "    <tr>\n",
              "      <th>4</th>\n",
              "      <td>0</td>\n",
              "      <td>3</td>\n",
              "      <td>male</td>\n",
              "      <td>35.0</td>\n",
              "      <td>0</td>\n",
              "      <td>0</td>\n",
              "      <td>8.0500</td>\n",
              "      <td>S</td>\n",
              "    </tr>\n",
              "    <tr>\n",
              "      <th>7</th>\n",
              "      <td>0</td>\n",
              "      <td>3</td>\n",
              "      <td>male</td>\n",
              "      <td>2.0</td>\n",
              "      <td>3</td>\n",
              "      <td>1</td>\n",
              "      <td>21.0750</td>\n",
              "      <td>S</td>\n",
              "    </tr>\n",
              "    <tr>\n",
              "      <th>9</th>\n",
              "      <td>1</td>\n",
              "      <td>2</td>\n",
              "      <td>female</td>\n",
              "      <td>14.0</td>\n",
              "      <td>1</td>\n",
              "      <td>0</td>\n",
              "      <td>30.0708</td>\n",
              "      <td>C</td>\n",
              "    </tr>\n",
              "    <tr>\n",
              "      <th>11</th>\n",
              "      <td>1</td>\n",
              "      <td>1</td>\n",
              "      <td>female</td>\n",
              "      <td>58.0</td>\n",
              "      <td>0</td>\n",
              "      <td>0</td>\n",
              "      <td>26.5500</td>\n",
              "      <td>S</td>\n",
              "    </tr>\n",
              "  </tbody>\n",
              "</table>\n",
              "</div>\n",
              "      <button class=\"colab-df-convert\" onclick=\"convertToInteractive('df-8c29635d-a1b6-4fc7-8727-11ce89c939c8')\"\n",
              "              title=\"Convert this dataframe to an interactive table.\"\n",
              "              style=\"display:none;\">\n",
              "        \n",
              "  <svg xmlns=\"http://www.w3.org/2000/svg\" height=\"24px\"viewBox=\"0 0 24 24\"\n",
              "       width=\"24px\">\n",
              "    <path d=\"M0 0h24v24H0V0z\" fill=\"none\"/>\n",
              "    <path d=\"M18.56 5.44l.94 2.06.94-2.06 2.06-.94-2.06-.94-.94-2.06-.94 2.06-2.06.94zm-11 1L8.5 8.5l.94-2.06 2.06-.94-2.06-.94L8.5 2.5l-.94 2.06-2.06.94zm10 10l.94 2.06.94-2.06 2.06-.94-2.06-.94-.94-2.06-.94 2.06-2.06.94z\"/><path d=\"M17.41 7.96l-1.37-1.37c-.4-.4-.92-.59-1.43-.59-.52 0-1.04.2-1.43.59L10.3 9.45l-7.72 7.72c-.78.78-.78 2.05 0 2.83L4 21.41c.39.39.9.59 1.41.59.51 0 1.02-.2 1.41-.59l7.78-7.78 2.81-2.81c.8-.78.8-2.07 0-2.86zM5.41 20L4 18.59l7.72-7.72 1.47 1.35L5.41 20z\"/>\n",
              "  </svg>\n",
              "      </button>\n",
              "      \n",
              "  <style>\n",
              "    .colab-df-container {\n",
              "      display:flex;\n",
              "      flex-wrap:wrap;\n",
              "      gap: 12px;\n",
              "    }\n",
              "\n",
              "    .colab-df-convert {\n",
              "      background-color: #E8F0FE;\n",
              "      border: none;\n",
              "      border-radius: 50%;\n",
              "      cursor: pointer;\n",
              "      display: none;\n",
              "      fill: #1967D2;\n",
              "      height: 32px;\n",
              "      padding: 0 0 0 0;\n",
              "      width: 32px;\n",
              "    }\n",
              "\n",
              "    .colab-df-convert:hover {\n",
              "      background-color: #E2EBFA;\n",
              "      box-shadow: 0px 1px 2px rgba(60, 64, 67, 0.3), 0px 1px 3px 1px rgba(60, 64, 67, 0.15);\n",
              "      fill: #174EA6;\n",
              "    }\n",
              "\n",
              "    [theme=dark] .colab-df-convert {\n",
              "      background-color: #3B4455;\n",
              "      fill: #D2E3FC;\n",
              "    }\n",
              "\n",
              "    [theme=dark] .colab-df-convert:hover {\n",
              "      background-color: #434B5C;\n",
              "      box-shadow: 0px 1px 3px 1px rgba(0, 0, 0, 0.15);\n",
              "      filter: drop-shadow(0px 1px 2px rgba(0, 0, 0, 0.3));\n",
              "      fill: #FFFFFF;\n",
              "    }\n",
              "  </style>\n",
              "\n",
              "      <script>\n",
              "        const buttonEl =\n",
              "          document.querySelector('#df-8c29635d-a1b6-4fc7-8727-11ce89c939c8 button.colab-df-convert');\n",
              "        buttonEl.style.display =\n",
              "          google.colab.kernel.accessAllowed ? 'block' : 'none';\n",
              "\n",
              "        async function convertToInteractive(key) {\n",
              "          const element = document.querySelector('#df-8c29635d-a1b6-4fc7-8727-11ce89c939c8');\n",
              "          const dataTable =\n",
              "            await google.colab.kernel.invokeFunction('convertToInteractive',\n",
              "                                                     [key], {});\n",
              "          if (!dataTable) return;\n",
              "\n",
              "          const docLinkHtml = 'Like what you see? Visit the ' +\n",
              "            '<a target=\"_blank\" href=https://colab.research.google.com/notebooks/data_table.ipynb>data table notebook</a>'\n",
              "            + ' to learn more about interactive tables.';\n",
              "          element.innerHTML = '';\n",
              "          dataTable['output_type'] = 'display_data';\n",
              "          await google.colab.output.renderOutput(dataTable, element);\n",
              "          const docLink = document.createElement('div');\n",
              "          docLink.innerHTML = docLinkHtml;\n",
              "          element.appendChild(docLink);\n",
              "        }\n",
              "      </script>\n",
              "    </div>\n",
              "  </div>\n",
              "  "
            ]
          },
          "metadata": {},
          "execution_count": 8
        }
      ]
    },
    {
      "cell_type": "code",
      "source": [
        "print(train_df.shape)\n",
        "print(test_df.shape)"
      ],
      "metadata": {
        "colab": {
          "base_uri": "https://localhost:8080/"
        },
        "id": "IhLHdx-VGjWX",
        "outputId": "7f9a8d2d-b4b7-40f4-fb78-0d98ecfb035e"
      },
      "execution_count": null,
      "outputs": [
        {
          "output_type": "stream",
          "name": "stdout",
          "text": [
            "(445, 8)\n",
            "(446, 7)\n"
          ]
        }
      ]
    },
    {
      "cell_type": "code",
      "source": [
        "train_df.info()"
      ],
      "metadata": {
        "colab": {
          "base_uri": "https://localhost:8080/"
        },
        "id": "xEEGBwNdFbeS",
        "outputId": "f7d1b668-882c-47d0-cbe1-794abbd38817"
      },
      "execution_count": null,
      "outputs": [
        {
          "output_type": "stream",
          "name": "stdout",
          "text": [
            "<class 'pandas.core.frame.DataFrame'>\n",
            "Int64Index: 445 entries, 3 to 888\n",
            "Data columns (total 8 columns):\n",
            " #   Column    Non-Null Count  Dtype  \n",
            "---  ------    --------------  -----  \n",
            " 0   survived  445 non-null    int64  \n",
            " 1   pclass    445 non-null    int64  \n",
            " 2   sex       445 non-null    object \n",
            " 3   age       360 non-null    float64\n",
            " 4   sibsp     445 non-null    int64  \n",
            " 5   parch     445 non-null    int64  \n",
            " 6   fare      445 non-null    float64\n",
            " 7   embarked  443 non-null    object \n",
            "dtypes: float64(2), int64(4), object(2)\n",
            "memory usage: 31.3+ KB\n"
          ]
        }
      ]
    },
    {
      "cell_type": "code",
      "source": [
        "train_df['survived'].value_counts()"
      ],
      "metadata": {
        "colab": {
          "base_uri": "https://localhost:8080/"
        },
        "id": "dO3tRjNdFvg9",
        "outputId": "42f9b4bb-5307-4241-adf9-045e4e6fc308"
      },
      "execution_count": null,
      "outputs": [
        {
          "output_type": "execute_result",
          "data": {
            "text/plain": [
              "0    266\n",
              "1    179\n",
              "Name: survived, dtype: int64"
            ]
          },
          "metadata": {},
          "execution_count": 11
        }
      ]
    },
    {
      "cell_type": "code",
      "source": [
        "train_df.describe()"
      ],
      "metadata": {
        "colab": {
          "base_uri": "https://localhost:8080/",
          "height": 300
        },
        "id": "h9UnJyv9F8fq",
        "outputId": "96f8bfa3-98a7-4a8a-c7f0-c30ac350ef7a"
      },
      "execution_count": null,
      "outputs": [
        {
          "output_type": "execute_result",
          "data": {
            "text/plain": [
              "         survived      pclass         age       sibsp       parch        fare\n",
              "count  445.000000  445.000000  360.000000  445.000000  445.000000  445.000000\n",
              "mean     0.402247    2.296629   29.211583    0.546067    0.431461   33.959971\n",
              "std      0.490903    0.834024   14.154300    1.195247    0.850489   52.079492\n",
              "min      0.000000    1.000000    0.670000    0.000000    0.000000    0.000000\n",
              "25%      0.000000    2.000000   20.000000    0.000000    0.000000    7.925000\n",
              "50%      0.000000    3.000000   28.000000    0.000000    0.000000   15.000000\n",
              "75%      1.000000    3.000000   37.250000    1.000000    1.000000   31.387500\n",
              "max      1.000000    3.000000   80.000000    8.000000    5.000000  512.329200"
            ],
            "text/html": [
              "\n",
              "  <div id=\"df-5e326c39-bdb6-4802-90e1-8e9b7558f523\">\n",
              "    <div class=\"colab-df-container\">\n",
              "      <div>\n",
              "<style scoped>\n",
              "    .dataframe tbody tr th:only-of-type {\n",
              "        vertical-align: middle;\n",
              "    }\n",
              "\n",
              "    .dataframe tbody tr th {\n",
              "        vertical-align: top;\n",
              "    }\n",
              "\n",
              "    .dataframe thead th {\n",
              "        text-align: right;\n",
              "    }\n",
              "</style>\n",
              "<table border=\"1\" class=\"dataframe\">\n",
              "  <thead>\n",
              "    <tr style=\"text-align: right;\">\n",
              "      <th></th>\n",
              "      <th>survived</th>\n",
              "      <th>pclass</th>\n",
              "      <th>age</th>\n",
              "      <th>sibsp</th>\n",
              "      <th>parch</th>\n",
              "      <th>fare</th>\n",
              "    </tr>\n",
              "  </thead>\n",
              "  <tbody>\n",
              "    <tr>\n",
              "      <th>count</th>\n",
              "      <td>445.000000</td>\n",
              "      <td>445.000000</td>\n",
              "      <td>360.000000</td>\n",
              "      <td>445.000000</td>\n",
              "      <td>445.000000</td>\n",
              "      <td>445.000000</td>\n",
              "    </tr>\n",
              "    <tr>\n",
              "      <th>mean</th>\n",
              "      <td>0.402247</td>\n",
              "      <td>2.296629</td>\n",
              "      <td>29.211583</td>\n",
              "      <td>0.546067</td>\n",
              "      <td>0.431461</td>\n",
              "      <td>33.959971</td>\n",
              "    </tr>\n",
              "    <tr>\n",
              "      <th>std</th>\n",
              "      <td>0.490903</td>\n",
              "      <td>0.834024</td>\n",
              "      <td>14.154300</td>\n",
              "      <td>1.195247</td>\n",
              "      <td>0.850489</td>\n",
              "      <td>52.079492</td>\n",
              "    </tr>\n",
              "    <tr>\n",
              "      <th>min</th>\n",
              "      <td>0.000000</td>\n",
              "      <td>1.000000</td>\n",
              "      <td>0.670000</td>\n",
              "      <td>0.000000</td>\n",
              "      <td>0.000000</td>\n",
              "      <td>0.000000</td>\n",
              "    </tr>\n",
              "    <tr>\n",
              "      <th>25%</th>\n",
              "      <td>0.000000</td>\n",
              "      <td>2.000000</td>\n",
              "      <td>20.000000</td>\n",
              "      <td>0.000000</td>\n",
              "      <td>0.000000</td>\n",
              "      <td>7.925000</td>\n",
              "    </tr>\n",
              "    <tr>\n",
              "      <th>50%</th>\n",
              "      <td>0.000000</td>\n",
              "      <td>3.000000</td>\n",
              "      <td>28.000000</td>\n",
              "      <td>0.000000</td>\n",
              "      <td>0.000000</td>\n",
              "      <td>15.000000</td>\n",
              "    </tr>\n",
              "    <tr>\n",
              "      <th>75%</th>\n",
              "      <td>1.000000</td>\n",
              "      <td>3.000000</td>\n",
              "      <td>37.250000</td>\n",
              "      <td>1.000000</td>\n",
              "      <td>1.000000</td>\n",
              "      <td>31.387500</td>\n",
              "    </tr>\n",
              "    <tr>\n",
              "      <th>max</th>\n",
              "      <td>1.000000</td>\n",
              "      <td>3.000000</td>\n",
              "      <td>80.000000</td>\n",
              "      <td>8.000000</td>\n",
              "      <td>5.000000</td>\n",
              "      <td>512.329200</td>\n",
              "    </tr>\n",
              "  </tbody>\n",
              "</table>\n",
              "</div>\n",
              "      <button class=\"colab-df-convert\" onclick=\"convertToInteractive('df-5e326c39-bdb6-4802-90e1-8e9b7558f523')\"\n",
              "              title=\"Convert this dataframe to an interactive table.\"\n",
              "              style=\"display:none;\">\n",
              "        \n",
              "  <svg xmlns=\"http://www.w3.org/2000/svg\" height=\"24px\"viewBox=\"0 0 24 24\"\n",
              "       width=\"24px\">\n",
              "    <path d=\"M0 0h24v24H0V0z\" fill=\"none\"/>\n",
              "    <path d=\"M18.56 5.44l.94 2.06.94-2.06 2.06-.94-2.06-.94-.94-2.06-.94 2.06-2.06.94zm-11 1L8.5 8.5l.94-2.06 2.06-.94-2.06-.94L8.5 2.5l-.94 2.06-2.06.94zm10 10l.94 2.06.94-2.06 2.06-.94-2.06-.94-.94-2.06-.94 2.06-2.06.94z\"/><path d=\"M17.41 7.96l-1.37-1.37c-.4-.4-.92-.59-1.43-.59-.52 0-1.04.2-1.43.59L10.3 9.45l-7.72 7.72c-.78.78-.78 2.05 0 2.83L4 21.41c.39.39.9.59 1.41.59.51 0 1.02-.2 1.41-.59l7.78-7.78 2.81-2.81c.8-.78.8-2.07 0-2.86zM5.41 20L4 18.59l7.72-7.72 1.47 1.35L5.41 20z\"/>\n",
              "  </svg>\n",
              "      </button>\n",
              "      \n",
              "  <style>\n",
              "    .colab-df-container {\n",
              "      display:flex;\n",
              "      flex-wrap:wrap;\n",
              "      gap: 12px;\n",
              "    }\n",
              "\n",
              "    .colab-df-convert {\n",
              "      background-color: #E8F0FE;\n",
              "      border: none;\n",
              "      border-radius: 50%;\n",
              "      cursor: pointer;\n",
              "      display: none;\n",
              "      fill: #1967D2;\n",
              "      height: 32px;\n",
              "      padding: 0 0 0 0;\n",
              "      width: 32px;\n",
              "    }\n",
              "\n",
              "    .colab-df-convert:hover {\n",
              "      background-color: #E2EBFA;\n",
              "      box-shadow: 0px 1px 2px rgba(60, 64, 67, 0.3), 0px 1px 3px 1px rgba(60, 64, 67, 0.15);\n",
              "      fill: #174EA6;\n",
              "    }\n",
              "\n",
              "    [theme=dark] .colab-df-convert {\n",
              "      background-color: #3B4455;\n",
              "      fill: #D2E3FC;\n",
              "    }\n",
              "\n",
              "    [theme=dark] .colab-df-convert:hover {\n",
              "      background-color: #434B5C;\n",
              "      box-shadow: 0px 1px 3px 1px rgba(0, 0, 0, 0.15);\n",
              "      filter: drop-shadow(0px 1px 2px rgba(0, 0, 0, 0.3));\n",
              "      fill: #FFFFFF;\n",
              "    }\n",
              "  </style>\n",
              "\n",
              "      <script>\n",
              "        const buttonEl =\n",
              "          document.querySelector('#df-5e326c39-bdb6-4802-90e1-8e9b7558f523 button.colab-df-convert');\n",
              "        buttonEl.style.display =\n",
              "          google.colab.kernel.accessAllowed ? 'block' : 'none';\n",
              "\n",
              "        async function convertToInteractive(key) {\n",
              "          const element = document.querySelector('#df-5e326c39-bdb6-4802-90e1-8e9b7558f523');\n",
              "          const dataTable =\n",
              "            await google.colab.kernel.invokeFunction('convertToInteractive',\n",
              "                                                     [key], {});\n",
              "          if (!dataTable) return;\n",
              "\n",
              "          const docLinkHtml = 'Like what you see? Visit the ' +\n",
              "            '<a target=\"_blank\" href=https://colab.research.google.com/notebooks/data_table.ipynb>data table notebook</a>'\n",
              "            + ' to learn more about interactive tables.';\n",
              "          element.innerHTML = '';\n",
              "          dataTable['output_type'] = 'display_data';\n",
              "          await google.colab.output.renderOutput(dataTable, element);\n",
              "          const docLink = document.createElement('div');\n",
              "          docLink.innerHTML = docLinkHtml;\n",
              "          element.appendChild(docLink);\n",
              "        }\n",
              "      </script>\n",
              "    </div>\n",
              "  </div>\n",
              "  "
            ]
          },
          "metadata": {},
          "execution_count": 12
        }
      ]
    },
    {
      "cell_type": "code",
      "source": [
        "# 生存率(目的変数)と他の説明変数の相関係数を一覧化\n",
        "pd.get_dummies(train_df).corrwith(train_df[\"survived\"])"
      ],
      "metadata": {
        "colab": {
          "base_uri": "https://localhost:8080/"
        },
        "id": "CUJuw_QUIm9E",
        "outputId": "ed8da3b0-907c-4a79-94ae-0d5ecb40d7bb"
      },
      "execution_count": null,
      "outputs": [
        {
          "output_type": "execute_result",
          "data": {
            "text/plain": [
              "survived      1.000000\n",
              "pclass       -0.358097\n",
              "age          -0.081394\n",
              "sibsp        -0.045087\n",
              "parch         0.079669\n",
              "fare          0.258605\n",
              "sex_female    0.559465\n",
              "sex_male     -0.559465\n",
              "embarked_C    0.182568\n",
              "embarked_Q    0.005062\n",
              "embarked_S   -0.172769\n",
              "dtype: float64"
            ]
          },
          "metadata": {},
          "execution_count": 13
        }
      ]
    },
    {
      "cell_type": "code",
      "source": [
        "# 高級クラス(1が高級)に乗っている乗客ほど生存率が高いのでは？？\n",
        "train_df[['pclass', 'survived']].groupby(['pclass']).mean()"
      ],
      "metadata": {
        "colab": {
          "base_uri": "https://localhost:8080/",
          "height": 175
        },
        "id": "hfcz4OJdKAOB",
        "outputId": "74cd62f3-81ab-4e46-ee26-30e6d83c8970"
      },
      "execution_count": null,
      "outputs": [
        {
          "output_type": "execute_result",
          "data": {
            "text/plain": [
              "        survived\n",
              "pclass          \n",
              "1       0.685185\n",
              "2       0.443299\n",
              "3       0.258333"
            ],
            "text/html": [
              "\n",
              "  <div id=\"df-ee29c048-8606-40dc-a25b-eeeed0b4698b\">\n",
              "    <div class=\"colab-df-container\">\n",
              "      <div>\n",
              "<style scoped>\n",
              "    .dataframe tbody tr th:only-of-type {\n",
              "        vertical-align: middle;\n",
              "    }\n",
              "\n",
              "    .dataframe tbody tr th {\n",
              "        vertical-align: top;\n",
              "    }\n",
              "\n",
              "    .dataframe thead th {\n",
              "        text-align: right;\n",
              "    }\n",
              "</style>\n",
              "<table border=\"1\" class=\"dataframe\">\n",
              "  <thead>\n",
              "    <tr style=\"text-align: right;\">\n",
              "      <th></th>\n",
              "      <th>survived</th>\n",
              "    </tr>\n",
              "    <tr>\n",
              "      <th>pclass</th>\n",
              "      <th></th>\n",
              "    </tr>\n",
              "  </thead>\n",
              "  <tbody>\n",
              "    <tr>\n",
              "      <th>1</th>\n",
              "      <td>0.685185</td>\n",
              "    </tr>\n",
              "    <tr>\n",
              "      <th>2</th>\n",
              "      <td>0.443299</td>\n",
              "    </tr>\n",
              "    <tr>\n",
              "      <th>3</th>\n",
              "      <td>0.258333</td>\n",
              "    </tr>\n",
              "  </tbody>\n",
              "</table>\n",
              "</div>\n",
              "      <button class=\"colab-df-convert\" onclick=\"convertToInteractive('df-ee29c048-8606-40dc-a25b-eeeed0b4698b')\"\n",
              "              title=\"Convert this dataframe to an interactive table.\"\n",
              "              style=\"display:none;\">\n",
              "        \n",
              "  <svg xmlns=\"http://www.w3.org/2000/svg\" height=\"24px\"viewBox=\"0 0 24 24\"\n",
              "       width=\"24px\">\n",
              "    <path d=\"M0 0h24v24H0V0z\" fill=\"none\"/>\n",
              "    <path d=\"M18.56 5.44l.94 2.06.94-2.06 2.06-.94-2.06-.94-.94-2.06-.94 2.06-2.06.94zm-11 1L8.5 8.5l.94-2.06 2.06-.94-2.06-.94L8.5 2.5l-.94 2.06-2.06.94zm10 10l.94 2.06.94-2.06 2.06-.94-2.06-.94-.94-2.06-.94 2.06-2.06.94z\"/><path d=\"M17.41 7.96l-1.37-1.37c-.4-.4-.92-.59-1.43-.59-.52 0-1.04.2-1.43.59L10.3 9.45l-7.72 7.72c-.78.78-.78 2.05 0 2.83L4 21.41c.39.39.9.59 1.41.59.51 0 1.02-.2 1.41-.59l7.78-7.78 2.81-2.81c.8-.78.8-2.07 0-2.86zM5.41 20L4 18.59l7.72-7.72 1.47 1.35L5.41 20z\"/>\n",
              "  </svg>\n",
              "      </button>\n",
              "      \n",
              "  <style>\n",
              "    .colab-df-container {\n",
              "      display:flex;\n",
              "      flex-wrap:wrap;\n",
              "      gap: 12px;\n",
              "    }\n",
              "\n",
              "    .colab-df-convert {\n",
              "      background-color: #E8F0FE;\n",
              "      border: none;\n",
              "      border-radius: 50%;\n",
              "      cursor: pointer;\n",
              "      display: none;\n",
              "      fill: #1967D2;\n",
              "      height: 32px;\n",
              "      padding: 0 0 0 0;\n",
              "      width: 32px;\n",
              "    }\n",
              "\n",
              "    .colab-df-convert:hover {\n",
              "      background-color: #E2EBFA;\n",
              "      box-shadow: 0px 1px 2px rgba(60, 64, 67, 0.3), 0px 1px 3px 1px rgba(60, 64, 67, 0.15);\n",
              "      fill: #174EA6;\n",
              "    }\n",
              "\n",
              "    [theme=dark] .colab-df-convert {\n",
              "      background-color: #3B4455;\n",
              "      fill: #D2E3FC;\n",
              "    }\n",
              "\n",
              "    [theme=dark] .colab-df-convert:hover {\n",
              "      background-color: #434B5C;\n",
              "      box-shadow: 0px 1px 3px 1px rgba(0, 0, 0, 0.15);\n",
              "      filter: drop-shadow(0px 1px 2px rgba(0, 0, 0, 0.3));\n",
              "      fill: #FFFFFF;\n",
              "    }\n",
              "  </style>\n",
              "\n",
              "      <script>\n",
              "        const buttonEl =\n",
              "          document.querySelector('#df-ee29c048-8606-40dc-a25b-eeeed0b4698b button.colab-df-convert');\n",
              "        buttonEl.style.display =\n",
              "          google.colab.kernel.accessAllowed ? 'block' : 'none';\n",
              "\n",
              "        async function convertToInteractive(key) {\n",
              "          const element = document.querySelector('#df-ee29c048-8606-40dc-a25b-eeeed0b4698b');\n",
              "          const dataTable =\n",
              "            await google.colab.kernel.invokeFunction('convertToInteractive',\n",
              "                                                     [key], {});\n",
              "          if (!dataTable) return;\n",
              "\n",
              "          const docLinkHtml = 'Like what you see? Visit the ' +\n",
              "            '<a target=\"_blank\" href=https://colab.research.google.com/notebooks/data_table.ipynb>data table notebook</a>'\n",
              "            + ' to learn more about interactive tables.';\n",
              "          element.innerHTML = '';\n",
              "          dataTable['output_type'] = 'display_data';\n",
              "          await google.colab.output.renderOutput(dataTable, element);\n",
              "          const docLink = document.createElement('div');\n",
              "          docLink.innerHTML = docLinkHtml;\n",
              "          element.appendChild(docLink);\n",
              "        }\n",
              "      </script>\n",
              "    </div>\n",
              "  </div>\n",
              "  "
            ]
          },
          "metadata": {},
          "execution_count": 14
        }
      ]
    },
    {
      "cell_type": "code",
      "source": [
        "# 女性の生存率が高いのでは？？？\n",
        "train_df[['sex', 'survived']].groupby(['sex']).mean()"
      ],
      "metadata": {
        "colab": {
          "base_uri": "https://localhost:8080/",
          "height": 143
        },
        "id": "SDeO3CaJKQt1",
        "outputId": "9081b3f3-50c4-4cea-d598-f6b3a7c3bef7"
      },
      "execution_count": null,
      "outputs": [
        {
          "output_type": "execute_result",
          "data": {
            "text/plain": [
              "        survived\n",
              "sex             \n",
              "female  0.775641\n",
              "male    0.200692"
            ],
            "text/html": [
              "\n",
              "  <div id=\"df-5b8eeb51-63bc-4da7-b2c3-4d87299b2f24\">\n",
              "    <div class=\"colab-df-container\">\n",
              "      <div>\n",
              "<style scoped>\n",
              "    .dataframe tbody tr th:only-of-type {\n",
              "        vertical-align: middle;\n",
              "    }\n",
              "\n",
              "    .dataframe tbody tr th {\n",
              "        vertical-align: top;\n",
              "    }\n",
              "\n",
              "    .dataframe thead th {\n",
              "        text-align: right;\n",
              "    }\n",
              "</style>\n",
              "<table border=\"1\" class=\"dataframe\">\n",
              "  <thead>\n",
              "    <tr style=\"text-align: right;\">\n",
              "      <th></th>\n",
              "      <th>survived</th>\n",
              "    </tr>\n",
              "    <tr>\n",
              "      <th>sex</th>\n",
              "      <th></th>\n",
              "    </tr>\n",
              "  </thead>\n",
              "  <tbody>\n",
              "    <tr>\n",
              "      <th>female</th>\n",
              "      <td>0.775641</td>\n",
              "    </tr>\n",
              "    <tr>\n",
              "      <th>male</th>\n",
              "      <td>0.200692</td>\n",
              "    </tr>\n",
              "  </tbody>\n",
              "</table>\n",
              "</div>\n",
              "      <button class=\"colab-df-convert\" onclick=\"convertToInteractive('df-5b8eeb51-63bc-4da7-b2c3-4d87299b2f24')\"\n",
              "              title=\"Convert this dataframe to an interactive table.\"\n",
              "              style=\"display:none;\">\n",
              "        \n",
              "  <svg xmlns=\"http://www.w3.org/2000/svg\" height=\"24px\"viewBox=\"0 0 24 24\"\n",
              "       width=\"24px\">\n",
              "    <path d=\"M0 0h24v24H0V0z\" fill=\"none\"/>\n",
              "    <path d=\"M18.56 5.44l.94 2.06.94-2.06 2.06-.94-2.06-.94-.94-2.06-.94 2.06-2.06.94zm-11 1L8.5 8.5l.94-2.06 2.06-.94-2.06-.94L8.5 2.5l-.94 2.06-2.06.94zm10 10l.94 2.06.94-2.06 2.06-.94-2.06-.94-.94-2.06-.94 2.06-2.06.94z\"/><path d=\"M17.41 7.96l-1.37-1.37c-.4-.4-.92-.59-1.43-.59-.52 0-1.04.2-1.43.59L10.3 9.45l-7.72 7.72c-.78.78-.78 2.05 0 2.83L4 21.41c.39.39.9.59 1.41.59.51 0 1.02-.2 1.41-.59l7.78-7.78 2.81-2.81c.8-.78.8-2.07 0-2.86zM5.41 20L4 18.59l7.72-7.72 1.47 1.35L5.41 20z\"/>\n",
              "  </svg>\n",
              "      </button>\n",
              "      \n",
              "  <style>\n",
              "    .colab-df-container {\n",
              "      display:flex;\n",
              "      flex-wrap:wrap;\n",
              "      gap: 12px;\n",
              "    }\n",
              "\n",
              "    .colab-df-convert {\n",
              "      background-color: #E8F0FE;\n",
              "      border: none;\n",
              "      border-radius: 50%;\n",
              "      cursor: pointer;\n",
              "      display: none;\n",
              "      fill: #1967D2;\n",
              "      height: 32px;\n",
              "      padding: 0 0 0 0;\n",
              "      width: 32px;\n",
              "    }\n",
              "\n",
              "    .colab-df-convert:hover {\n",
              "      background-color: #E2EBFA;\n",
              "      box-shadow: 0px 1px 2px rgba(60, 64, 67, 0.3), 0px 1px 3px 1px rgba(60, 64, 67, 0.15);\n",
              "      fill: #174EA6;\n",
              "    }\n",
              "\n",
              "    [theme=dark] .colab-df-convert {\n",
              "      background-color: #3B4455;\n",
              "      fill: #D2E3FC;\n",
              "    }\n",
              "\n",
              "    [theme=dark] .colab-df-convert:hover {\n",
              "      background-color: #434B5C;\n",
              "      box-shadow: 0px 1px 3px 1px rgba(0, 0, 0, 0.15);\n",
              "      filter: drop-shadow(0px 1px 2px rgba(0, 0, 0, 0.3));\n",
              "      fill: #FFFFFF;\n",
              "    }\n",
              "  </style>\n",
              "\n",
              "      <script>\n",
              "        const buttonEl =\n",
              "          document.querySelector('#df-5b8eeb51-63bc-4da7-b2c3-4d87299b2f24 button.colab-df-convert');\n",
              "        buttonEl.style.display =\n",
              "          google.colab.kernel.accessAllowed ? 'block' : 'none';\n",
              "\n",
              "        async function convertToInteractive(key) {\n",
              "          const element = document.querySelector('#df-5b8eeb51-63bc-4da7-b2c3-4d87299b2f24');\n",
              "          const dataTable =\n",
              "            await google.colab.kernel.invokeFunction('convertToInteractive',\n",
              "                                                     [key], {});\n",
              "          if (!dataTable) return;\n",
              "\n",
              "          const docLinkHtml = 'Like what you see? Visit the ' +\n",
              "            '<a target=\"_blank\" href=https://colab.research.google.com/notebooks/data_table.ipynb>data table notebook</a>'\n",
              "            + ' to learn more about interactive tables.';\n",
              "          element.innerHTML = '';\n",
              "          dataTable['output_type'] = 'display_data';\n",
              "          await google.colab.output.renderOutput(dataTable, element);\n",
              "          const docLink = document.createElement('div');\n",
              "          docLink.innerHTML = docLinkHtml;\n",
              "          element.appendChild(docLink);\n",
              "        }\n",
              "      </script>\n",
              "    </div>\n",
              "  </div>\n",
              "  "
            ]
          },
          "metadata": {},
          "execution_count": 15
        }
      ]
    },
    {
      "cell_type": "markdown",
      "source": [
        "#### データの前処理\n",
        "- 欠損値の補完\n",
        "- カテゴリ変数のダミー化"
      ],
      "metadata": {
        "id": "4bkeYbz8LUfl"
      }
    },
    {
      "cell_type": "code",
      "source": [
        "data = pd.concat([train_df,test_df])"
      ],
      "metadata": {
        "id": "AQAKc_qbLdvn"
      },
      "execution_count": null,
      "outputs": []
    },
    {
      "cell_type": "code",
      "source": [
        "# 欠損値に対してage→全体の平均値、embarked→最頻値で補完する\n",
        "data['age'] = data['age'].fillna(data['age'].mean()) \n",
        "data['embarked'] = data['embarked'].fillna(data['embarked'].mode()) "
      ],
      "metadata": {
        "id": "-RhStqgjNDEg"
      },
      "execution_count": null,
      "outputs": []
    },
    {
      "cell_type": "code",
      "source": [
        "# dataをダミー化する←おそらく、カテゴリ変数を数値化する\n",
        "data = pd.get_dummies(data)"
      ],
      "metadata": {
        "id": "WSablY9hNV4G"
      },
      "execution_count": null,
      "outputs": []
    },
    {
      "cell_type": "code",
      "source": [
        "# 元の学習用データと評価用データに戻す\n",
        "# 結合時に追加されてしまったsurvivedを削除\n",
        "train_df = data.loc[train_df.index]\n",
        "test_df = data.loc[test_df.index]\n",
        "test_df = test_df.drop([\"survived\"], axis=1)"
      ],
      "metadata": {
        "id": "NqLkDjZuNYU_"
      },
      "execution_count": null,
      "outputs": []
    },
    {
      "cell_type": "code",
      "source": [
        "# 性別がダミー化され、カラム数が増え、要素が数値データ化されている\n",
        "train_df.head()"
      ],
      "metadata": {
        "colab": {
          "base_uri": "https://localhost:8080/",
          "height": 301
        },
        "id": "rNpW1v31Oqk_",
        "outputId": "f852bfc9-5afe-4401-8014-735eb0cb5521"
      },
      "execution_count": null,
      "outputs": [
        {
          "output_type": "execute_result",
          "data": {
            "text/plain": [
              "    survived  pclass   age  sibsp  parch     fare  sex_female  sex_male  \\\n",
              "id                                                                        \n",
              "3        1.0       1  35.0      1      0  53.1000           1         0   \n",
              "4        0.0       3  35.0      0      0   8.0500           0         1   \n",
              "7        0.0       3   2.0      3      1  21.0750           0         1   \n",
              "9        1.0       2  14.0      1      0  30.0708           1         0   \n",
              "11       1.0       1  58.0      0      0  26.5500           1         0   \n",
              "\n",
              "    embarked_C  embarked_Q  embarked_S  \n",
              "id                                      \n",
              "3            0           0           1  \n",
              "4            0           0           1  \n",
              "7            0           0           1  \n",
              "9            1           0           0  \n",
              "11           0           0           1  "
            ],
            "text/html": [
              "\n",
              "  <div id=\"df-209cc846-455b-4d52-87d4-c8a6ef84c757\">\n",
              "    <div class=\"colab-df-container\">\n",
              "      <div>\n",
              "<style scoped>\n",
              "    .dataframe tbody tr th:only-of-type {\n",
              "        vertical-align: middle;\n",
              "    }\n",
              "\n",
              "    .dataframe tbody tr th {\n",
              "        vertical-align: top;\n",
              "    }\n",
              "\n",
              "    .dataframe thead th {\n",
              "        text-align: right;\n",
              "    }\n",
              "</style>\n",
              "<table border=\"1\" class=\"dataframe\">\n",
              "  <thead>\n",
              "    <tr style=\"text-align: right;\">\n",
              "      <th></th>\n",
              "      <th>survived</th>\n",
              "      <th>pclass</th>\n",
              "      <th>age</th>\n",
              "      <th>sibsp</th>\n",
              "      <th>parch</th>\n",
              "      <th>fare</th>\n",
              "      <th>sex_female</th>\n",
              "      <th>sex_male</th>\n",
              "      <th>embarked_C</th>\n",
              "      <th>embarked_Q</th>\n",
              "      <th>embarked_S</th>\n",
              "    </tr>\n",
              "    <tr>\n",
              "      <th>id</th>\n",
              "      <th></th>\n",
              "      <th></th>\n",
              "      <th></th>\n",
              "      <th></th>\n",
              "      <th></th>\n",
              "      <th></th>\n",
              "      <th></th>\n",
              "      <th></th>\n",
              "      <th></th>\n",
              "      <th></th>\n",
              "      <th></th>\n",
              "    </tr>\n",
              "  </thead>\n",
              "  <tbody>\n",
              "    <tr>\n",
              "      <th>3</th>\n",
              "      <td>1.0</td>\n",
              "      <td>1</td>\n",
              "      <td>35.0</td>\n",
              "      <td>1</td>\n",
              "      <td>0</td>\n",
              "      <td>53.1000</td>\n",
              "      <td>1</td>\n",
              "      <td>0</td>\n",
              "      <td>0</td>\n",
              "      <td>0</td>\n",
              "      <td>1</td>\n",
              "    </tr>\n",
              "    <tr>\n",
              "      <th>4</th>\n",
              "      <td>0.0</td>\n",
              "      <td>3</td>\n",
              "      <td>35.0</td>\n",
              "      <td>0</td>\n",
              "      <td>0</td>\n",
              "      <td>8.0500</td>\n",
              "      <td>0</td>\n",
              "      <td>1</td>\n",
              "      <td>0</td>\n",
              "      <td>0</td>\n",
              "      <td>1</td>\n",
              "    </tr>\n",
              "    <tr>\n",
              "      <th>7</th>\n",
              "      <td>0.0</td>\n",
              "      <td>3</td>\n",
              "      <td>2.0</td>\n",
              "      <td>3</td>\n",
              "      <td>1</td>\n",
              "      <td>21.0750</td>\n",
              "      <td>0</td>\n",
              "      <td>1</td>\n",
              "      <td>0</td>\n",
              "      <td>0</td>\n",
              "      <td>1</td>\n",
              "    </tr>\n",
              "    <tr>\n",
              "      <th>9</th>\n",
              "      <td>1.0</td>\n",
              "      <td>2</td>\n",
              "      <td>14.0</td>\n",
              "      <td>1</td>\n",
              "      <td>0</td>\n",
              "      <td>30.0708</td>\n",
              "      <td>1</td>\n",
              "      <td>0</td>\n",
              "      <td>1</td>\n",
              "      <td>0</td>\n",
              "      <td>0</td>\n",
              "    </tr>\n",
              "    <tr>\n",
              "      <th>11</th>\n",
              "      <td>1.0</td>\n",
              "      <td>1</td>\n",
              "      <td>58.0</td>\n",
              "      <td>0</td>\n",
              "      <td>0</td>\n",
              "      <td>26.5500</td>\n",
              "      <td>1</td>\n",
              "      <td>0</td>\n",
              "      <td>0</td>\n",
              "      <td>0</td>\n",
              "      <td>1</td>\n",
              "    </tr>\n",
              "  </tbody>\n",
              "</table>\n",
              "</div>\n",
              "      <button class=\"colab-df-convert\" onclick=\"convertToInteractive('df-209cc846-455b-4d52-87d4-c8a6ef84c757')\"\n",
              "              title=\"Convert this dataframe to an interactive table.\"\n",
              "              style=\"display:none;\">\n",
              "        \n",
              "  <svg xmlns=\"http://www.w3.org/2000/svg\" height=\"24px\"viewBox=\"0 0 24 24\"\n",
              "       width=\"24px\">\n",
              "    <path d=\"M0 0h24v24H0V0z\" fill=\"none\"/>\n",
              "    <path d=\"M18.56 5.44l.94 2.06.94-2.06 2.06-.94-2.06-.94-.94-2.06-.94 2.06-2.06.94zm-11 1L8.5 8.5l.94-2.06 2.06-.94-2.06-.94L8.5 2.5l-.94 2.06-2.06.94zm10 10l.94 2.06.94-2.06 2.06-.94-2.06-.94-.94-2.06-.94 2.06-2.06.94z\"/><path d=\"M17.41 7.96l-1.37-1.37c-.4-.4-.92-.59-1.43-.59-.52 0-1.04.2-1.43.59L10.3 9.45l-7.72 7.72c-.78.78-.78 2.05 0 2.83L4 21.41c.39.39.9.59 1.41.59.51 0 1.02-.2 1.41-.59l7.78-7.78 2.81-2.81c.8-.78.8-2.07 0-2.86zM5.41 20L4 18.59l7.72-7.72 1.47 1.35L5.41 20z\"/>\n",
              "  </svg>\n",
              "      </button>\n",
              "      \n",
              "  <style>\n",
              "    .colab-df-container {\n",
              "      display:flex;\n",
              "      flex-wrap:wrap;\n",
              "      gap: 12px;\n",
              "    }\n",
              "\n",
              "    .colab-df-convert {\n",
              "      background-color: #E8F0FE;\n",
              "      border: none;\n",
              "      border-radius: 50%;\n",
              "      cursor: pointer;\n",
              "      display: none;\n",
              "      fill: #1967D2;\n",
              "      height: 32px;\n",
              "      padding: 0 0 0 0;\n",
              "      width: 32px;\n",
              "    }\n",
              "\n",
              "    .colab-df-convert:hover {\n",
              "      background-color: #E2EBFA;\n",
              "      box-shadow: 0px 1px 2px rgba(60, 64, 67, 0.3), 0px 1px 3px 1px rgba(60, 64, 67, 0.15);\n",
              "      fill: #174EA6;\n",
              "    }\n",
              "\n",
              "    [theme=dark] .colab-df-convert {\n",
              "      background-color: #3B4455;\n",
              "      fill: #D2E3FC;\n",
              "    }\n",
              "\n",
              "    [theme=dark] .colab-df-convert:hover {\n",
              "      background-color: #434B5C;\n",
              "      box-shadow: 0px 1px 3px 1px rgba(0, 0, 0, 0.15);\n",
              "      filter: drop-shadow(0px 1px 2px rgba(0, 0, 0, 0.3));\n",
              "      fill: #FFFFFF;\n",
              "    }\n",
              "  </style>\n",
              "\n",
              "      <script>\n",
              "        const buttonEl =\n",
              "          document.querySelector('#df-209cc846-455b-4d52-87d4-c8a6ef84c757 button.colab-df-convert');\n",
              "        buttonEl.style.display =\n",
              "          google.colab.kernel.accessAllowed ? 'block' : 'none';\n",
              "\n",
              "        async function convertToInteractive(key) {\n",
              "          const element = document.querySelector('#df-209cc846-455b-4d52-87d4-c8a6ef84c757');\n",
              "          const dataTable =\n",
              "            await google.colab.kernel.invokeFunction('convertToInteractive',\n",
              "                                                     [key], {});\n",
              "          if (!dataTable) return;\n",
              "\n",
              "          const docLinkHtml = 'Like what you see? Visit the ' +\n",
              "            '<a target=\"_blank\" href=https://colab.research.google.com/notebooks/data_table.ipynb>data table notebook</a>'\n",
              "            + ' to learn more about interactive tables.';\n",
              "          element.innerHTML = '';\n",
              "          dataTable['output_type'] = 'display_data';\n",
              "          await google.colab.output.renderOutput(dataTable, element);\n",
              "          const docLink = document.createElement('div');\n",
              "          docLink.innerHTML = docLinkHtml;\n",
              "          element.appendChild(docLink);\n",
              "        }\n",
              "      </script>\n",
              "    </div>\n",
              "  </div>\n",
              "  "
            ]
          },
          "metadata": {},
          "execution_count": 20
        }
      ]
    },
    {
      "cell_type": "markdown",
      "source": [
        "#### モデリング"
      ],
      "metadata": {
        "id": "fB9uxFCeQGSz"
      }
    },
    {
      "cell_type": "code",
      "source": [
        "y = train_df[\"survived\"] # 目的変数\n",
        "X = train_df.drop([\"survived\"], axis=1) # 目的変数を除いたデータ"
      ],
      "metadata": {
        "id": "jMzw8WQmOynp"
      },
      "execution_count": null,
      "outputs": []
    },
    {
      "cell_type": "code",
      "source": [
        "# sckit-learnからロジスティック回帰のモジュールをインポートして学習する\n",
        "from sklearn.linear_model import LogisticRegression\n",
        "model = LogisticRegression()\n",
        "model.fit(X, y)"
      ],
      "metadata": {
        "colab": {
          "base_uri": "https://localhost:8080/"
        },
        "id": "9_-RtwceQLOx",
        "outputId": "7c6dbe75-7ae3-4d9d-e49e-cf15d6c2ef3c"
      },
      "execution_count": null,
      "outputs": [
        {
          "output_type": "stream",
          "name": "stderr",
          "text": [
            "/usr/local/lib/python3.7/dist-packages/sklearn/linear_model/_logistic.py:818: ConvergenceWarning: lbfgs failed to converge (status=1):\n",
            "STOP: TOTAL NO. of ITERATIONS REACHED LIMIT.\n",
            "\n",
            "Increase the number of iterations (max_iter) or scale the data as shown in:\n",
            "    https://scikit-learn.org/stable/modules/preprocessing.html\n",
            "Please also refer to the documentation for alternative solver options:\n",
            "    https://scikit-learn.org/stable/modules/linear_model.html#logistic-regression\n",
            "  extra_warning_msg=_LOGISTIC_SOLVER_CONVERGENCE_MSG,\n"
          ]
        },
        {
          "output_type": "execute_result",
          "data": {
            "text/plain": [
              "LogisticRegression()"
            ]
          },
          "metadata": {},
          "execution_count": 22
        }
      ]
    },
    {
      "cell_type": "code",
      "source": [
        "# 評価用データの並び順に合わせ、生存できる確率を取り出す\n",
        "pred = model.predict_proba(test_df)[:, 1]"
      ],
      "metadata": {
        "id": "CqPOmuyGQfLx"
      },
      "execution_count": null,
      "outputs": []
    },
    {
      "cell_type": "code",
      "source": [
        "# 予測した生存率の先頭5行を表示する\n",
        "print(pred[:5])"
      ],
      "metadata": {
        "colab": {
          "base_uri": "https://localhost:8080/"
        },
        "id": "HOXs-32RQo_b",
        "outputId": "abe875d8-0265-42ed-c139-a64766a56e9c"
      },
      "execution_count": null,
      "outputs": [
        {
          "output_type": "stream",
          "name": "stdout",
          "text": [
            "[0.10554246 0.92164857 0.64522003 0.17226274 0.28096284]\n"
          ]
        }
      ]
    },
    {
      "cell_type": "markdown",
      "source": [
        "#### 予測結果の投稿"
      ],
      "metadata": {
        "id": "4AkKseUvRQLo"
      }
    },
    {
      "cell_type": "code",
      "source": [
        "# 提出用データのフォーマットをダウンロードする\n",
        "submit = '/content/sample_submit.tsv'\n",
        "submit_df = pd.read_csv(submit, header=None, sep=\"\\t\",index_col=0)\n",
        "submit_df.head()"
      ],
      "metadata": {
        "colab": {
          "base_uri": "https://localhost:8080/",
          "height": 237
        },
        "id": "mD9F49w3RzJl",
        "outputId": "72f17347-7bce-4dbc-d49f-029e55cbe80e"
      },
      "execution_count": null,
      "outputs": [
        {
          "output_type": "execute_result",
          "data": {
            "text/plain": [
              "   1\n",
              "0   \n",
              "0  0\n",
              "1  1\n",
              "2  0\n",
              "5  1\n",
              "6  1"
            ],
            "text/html": [
              "\n",
              "  <div id=\"df-51e282cd-5b83-4d30-a3b0-3cb0c5886268\">\n",
              "    <div class=\"colab-df-container\">\n",
              "      <div>\n",
              "<style scoped>\n",
              "    .dataframe tbody tr th:only-of-type {\n",
              "        vertical-align: middle;\n",
              "    }\n",
              "\n",
              "    .dataframe tbody tr th {\n",
              "        vertical-align: top;\n",
              "    }\n",
              "\n",
              "    .dataframe thead th {\n",
              "        text-align: right;\n",
              "    }\n",
              "</style>\n",
              "<table border=\"1\" class=\"dataframe\">\n",
              "  <thead>\n",
              "    <tr style=\"text-align: right;\">\n",
              "      <th></th>\n",
              "      <th>1</th>\n",
              "    </tr>\n",
              "    <tr>\n",
              "      <th>0</th>\n",
              "      <th></th>\n",
              "    </tr>\n",
              "  </thead>\n",
              "  <tbody>\n",
              "    <tr>\n",
              "      <th>0</th>\n",
              "      <td>0</td>\n",
              "    </tr>\n",
              "    <tr>\n",
              "      <th>1</th>\n",
              "      <td>1</td>\n",
              "    </tr>\n",
              "    <tr>\n",
              "      <th>2</th>\n",
              "      <td>0</td>\n",
              "    </tr>\n",
              "    <tr>\n",
              "      <th>5</th>\n",
              "      <td>1</td>\n",
              "    </tr>\n",
              "    <tr>\n",
              "      <th>6</th>\n",
              "      <td>1</td>\n",
              "    </tr>\n",
              "  </tbody>\n",
              "</table>\n",
              "</div>\n",
              "      <button class=\"colab-df-convert\" onclick=\"convertToInteractive('df-51e282cd-5b83-4d30-a3b0-3cb0c5886268')\"\n",
              "              title=\"Convert this dataframe to an interactive table.\"\n",
              "              style=\"display:none;\">\n",
              "        \n",
              "  <svg xmlns=\"http://www.w3.org/2000/svg\" height=\"24px\"viewBox=\"0 0 24 24\"\n",
              "       width=\"24px\">\n",
              "    <path d=\"M0 0h24v24H0V0z\" fill=\"none\"/>\n",
              "    <path d=\"M18.56 5.44l.94 2.06.94-2.06 2.06-.94-2.06-.94-.94-2.06-.94 2.06-2.06.94zm-11 1L8.5 8.5l.94-2.06 2.06-.94-2.06-.94L8.5 2.5l-.94 2.06-2.06.94zm10 10l.94 2.06.94-2.06 2.06-.94-2.06-.94-.94-2.06-.94 2.06-2.06.94z\"/><path d=\"M17.41 7.96l-1.37-1.37c-.4-.4-.92-.59-1.43-.59-.52 0-1.04.2-1.43.59L10.3 9.45l-7.72 7.72c-.78.78-.78 2.05 0 2.83L4 21.41c.39.39.9.59 1.41.59.51 0 1.02-.2 1.41-.59l7.78-7.78 2.81-2.81c.8-.78.8-2.07 0-2.86zM5.41 20L4 18.59l7.72-7.72 1.47 1.35L5.41 20z\"/>\n",
              "  </svg>\n",
              "      </button>\n",
              "      \n",
              "  <style>\n",
              "    .colab-df-container {\n",
              "      display:flex;\n",
              "      flex-wrap:wrap;\n",
              "      gap: 12px;\n",
              "    }\n",
              "\n",
              "    .colab-df-convert {\n",
              "      background-color: #E8F0FE;\n",
              "      border: none;\n",
              "      border-radius: 50%;\n",
              "      cursor: pointer;\n",
              "      display: none;\n",
              "      fill: #1967D2;\n",
              "      height: 32px;\n",
              "      padding: 0 0 0 0;\n",
              "      width: 32px;\n",
              "    }\n",
              "\n",
              "    .colab-df-convert:hover {\n",
              "      background-color: #E2EBFA;\n",
              "      box-shadow: 0px 1px 2px rgba(60, 64, 67, 0.3), 0px 1px 3px 1px rgba(60, 64, 67, 0.15);\n",
              "      fill: #174EA6;\n",
              "    }\n",
              "\n",
              "    [theme=dark] .colab-df-convert {\n",
              "      background-color: #3B4455;\n",
              "      fill: #D2E3FC;\n",
              "    }\n",
              "\n",
              "    [theme=dark] .colab-df-convert:hover {\n",
              "      background-color: #434B5C;\n",
              "      box-shadow: 0px 1px 3px 1px rgba(0, 0, 0, 0.15);\n",
              "      filter: drop-shadow(0px 1px 2px rgba(0, 0, 0, 0.3));\n",
              "      fill: #FFFFFF;\n",
              "    }\n",
              "  </style>\n",
              "\n",
              "      <script>\n",
              "        const buttonEl =\n",
              "          document.querySelector('#df-51e282cd-5b83-4d30-a3b0-3cb0c5886268 button.colab-df-convert');\n",
              "        buttonEl.style.display =\n",
              "          google.colab.kernel.accessAllowed ? 'block' : 'none';\n",
              "\n",
              "        async function convertToInteractive(key) {\n",
              "          const element = document.querySelector('#df-51e282cd-5b83-4d30-a3b0-3cb0c5886268');\n",
              "          const dataTable =\n",
              "            await google.colab.kernel.invokeFunction('convertToInteractive',\n",
              "                                                     [key], {});\n",
              "          if (!dataTable) return;\n",
              "\n",
              "          const docLinkHtml = 'Like what you see? Visit the ' +\n",
              "            '<a target=\"_blank\" href=https://colab.research.google.com/notebooks/data_table.ipynb>data table notebook</a>'\n",
              "            + ' to learn more about interactive tables.';\n",
              "          element.innerHTML = '';\n",
              "          dataTable['output_type'] = 'display_data';\n",
              "          await google.colab.output.renderOutput(dataTable, element);\n",
              "          const docLink = document.createElement('div');\n",
              "          docLink.innerHTML = docLinkHtml;\n",
              "          element.appendChild(docLink);\n",
              "        }\n",
              "      </script>\n",
              "    </div>\n",
              "  </div>\n",
              "  "
            ]
          },
          "metadata": {},
          "execution_count": 25
        }
      ]
    },
    {
      "cell_type": "code",
      "source": [
        "#提出用データに予測した値を格納する \n",
        "submit_df[1] = pred\n",
        "submit_df.to_csv('submit.tsv', header=None, sep='\\t')"
      ],
      "metadata": {
        "id": "V1U8lfD2RfHw"
      },
      "execution_count": null,
      "outputs": []
    },
    {
      "cell_type": "code",
      "source": [
        "# !signate submit -c 102 -n \"first submit from google colab\" submit.tsv"
      ],
      "metadata": {
        "id": "ppfEu21cSjY1"
      },
      "execution_count": null,
      "outputs": []
    },
    {
      "cell_type": "markdown",
      "source": [
        "# デーサイ本(1~3章)を試す"
      ],
      "metadata": {
        "id": "5MDSovG7X48R"
      }
    },
    {
      "cell_type": "markdown",
      "source": [
        "## scikit-learn不使用"
      ],
      "metadata": {
        "id": "B8pcBGY-ZZuy"
      }
    },
    {
      "cell_type": "markdown",
      "source": [
        "### パーセプトロン"
      ],
      "metadata": {
        "id": "zxn-FSJsYIfw"
      }
    },
    {
      "cell_type": "markdown",
      "source": [
        "#### クラス定義"
      ],
      "metadata": {
        "id": "qafrFxlixeWo"
      }
    },
    {
      "cell_type": "code",
      "source": [
        "import numpy as np\n",
        "class Perceptron(object):\n",
        "    '''パーセプトロンの分類機\n",
        "    \n",
        "    パラメータ\n",
        "    ----------------\n",
        "    eta:float\n",
        "        学習率(0.0より大きく1.0以下の値)\n",
        "    n_iter:int\n",
        "        トレーニングデータのトレーニング回数\n",
        "    random_state:int\n",
        "        重みを初期化するための乱数シード\n",
        "    \n",
        "    属性\n",
        "    -----------------\n",
        "    w_:1次元配列\n",
        "        適合後の重み\n",
        "    errors_:リスト\n",
        "        各エポックでの誤分類(更新)の数\n",
        "\n",
        "    '''\n",
        "\n",
        "    # 初期化の関数 クラスをインスタンス化する時に使う奴\n",
        "    def __init__(self, eta=0.01, n_iter=50, random_state=1):\n",
        "        self.eta = eta\n",
        "        self.n_iter = n_iter\n",
        "        self.random_state = random_state\n",
        "\n",
        "    # 適合する関数\n",
        "    def fit(self, X, y):\n",
        "        '''トレーニングデータに適合させる\n",
        "\n",
        "        パラメータ\n",
        "        ------------\n",
        "        X:{配列のようなデータ構造}、shape = {n_samples, n_features}\n",
        "        トレーニングデータ、n_samplesはサンプルの個数、n_featuresは特徴量の個数\n",
        "\n",
        "        y:配列のようなデータ構造、shape = {n_samples}\n",
        "        目的変数\n",
        "\n",
        "        戻り値\n",
        "        ------------\n",
        "        self : object\n",
        "        '''\n",
        "        # rgenは乱数を発生させるやつ\n",
        "        rgen = np.random.RandomState(self.random_state)\n",
        "        # self.w_はランダムに重みを設定する。wの形としては、(12,1)となり、(特徴量の数+1)次元のベクトルである\n",
        "        self.w_ = rgen.normal(loc=0.0, scale=0.01, size=1+X.shape[1])\n",
        "        # 誤差の何かを入れる配列\n",
        "        self.errors_ = []\n",
        "\n",
        "        # 繰り返し処理を行う\n",
        "        for _ in range(self.n_iter): #トレーニング回数分トレーニングデータを反復\n",
        "            errors = 0\n",
        "            # pandasのdataframeの構造で、df.valuesはnumpy配列が返される。\n",
        "            for xi, target in zip(X.values,y.values): #各サンプルで重みを更新\n",
        "                # 重み w,,,,wの更新\n",
        "                # self.eta:学習率,target:y(0or1)(survivedフラグの列),self.predict(xi):予測結果(0or1)\n",
        "                update = self.eta * (target - self.predict(xi))\n",
        "                self.w_[1:] += update * xi\n",
        "                # 重みw0の更新:Δw0 = η(yi - y^i)\n",
        "                self.w_[0] += update\n",
        "                # 重みの更新が0でない場合は誤分類としてカウント\n",
        "                errors += int(update != 0.0)\n",
        "            # 反復回数ごとの誤差を格納\n",
        "            self.errors_.append(errors)\n",
        "        return self\n",
        "\n",
        "    # 入力？\n",
        "    def net_input(self, X):\n",
        "        ''' 総入力を計算\n",
        "            np.dotは行列の内積計算を行う\n",
        "         '''\n",
        "        return np.dot(X, self.w_[1:]) + self.w_[0]\n",
        "\n",
        "    # 謎部分\n",
        "    def predict(self,X):\n",
        "        '''\n",
        "            ステップ関数の実装\n",
        "            1ステップ後のクラスラベルを返す\n",
        "            self.net_input(X)の戻り値(ndarray)が0以上であれば、1にし、0より小さければ、-1に変更する\n",
        "        '''\n",
        "        return np.where(self.net_input(X) >= 0.0, 1, 0)"
      ],
      "metadata": {
        "id": "8zSYe46cYCAo"
      },
      "execution_count": null,
      "outputs": []
    },
    {
      "cell_type": "markdown",
      "source": [
        "##### 各種変数の中身の確認"
      ],
      "metadata": {
        "id": "AT--bSWjc4BF"
      }
    },
    {
      "cell_type": "code",
      "source": [
        "# print(\"Xの形\",X.shape)\n",
        "# print(\"Xのデータ型\",X.dtypes)\n",
        "# print(\"yの形\",y.shape)\n",
        "# print(\"yのデータ型\",y.dtypes)\n",
        "# print(\"-------------------------------------------------------------------------------------------\")\n",
        "# print('Xの中身を表示')\n",
        "# print(\"-------------------------------------------------------------------------------------------\")\n",
        "# print(X.values)\n",
        "# print(\"-------------------------------------------------------------------------------------------\")\n",
        "# print('yの中身を表示')\n",
        "# print(\"-------------------------------------------------------------------------------------------\")\n",
        "# print(y.values)\n",
        "# print(\"-------------------------------------------------------------------------------------------\")\n",
        "# print('zip(X,y)の中身を表示')\n",
        "# print(\"-------------------------------------------------------------------------------------------\")\n",
        "# print(list(zip(X.values,y.values)))\n",
        "# a = zip(X,y)\n",
        "# print(\"aを表示する\")\n",
        "# print(type(a))\n",
        "# print(list(a))"
      ],
      "metadata": {
        "id": "e02cs2ruFp-R"
      },
      "execution_count": null,
      "outputs": []
    },
    {
      "cell_type": "markdown",
      "source": [
        "#### 実行する"
      ],
      "metadata": {
        "id": "DDzJo3oaxh2Z"
      }
    },
    {
      "cell_type": "code",
      "source": [
        "# X,yの元のやつ\n",
        "y = train_df[\"survived\"] # 目的変数\n",
        "X = train_df.drop([\"survived\"], axis=1) # 目的変数を除いたデータ\n",
        "# print(\"X.shape:\",X.shape)"
      ],
      "metadata": {
        "id": "B-z8heZTIZ9W"
      },
      "execution_count": null,
      "outputs": []
    },
    {
      "cell_type": "code",
      "source": [
        "import matplotlib.pyplot as plt\n",
        "\n",
        "# パーセプトロンのインスタンス化(学習率0.1,エポック数10)\n",
        "ppn = Perceptron(eta=0.1, n_iter=100)\n",
        "# np.dotの計算が出来ないというので、Xのデータ型を全てfloatに変換する\n",
        "X = X.astype(float)\n",
        "# トレーニングデータへのモデルの適合\n",
        "ppn.fit(X,y)\n",
        "# print(\"------------------------------------------------------------------------------------------------\")\n",
        "# print(\"ppn.net_input(X)\")\n",
        "# print(ppn.net_input(X))\n",
        "# print(\"------------------------------------------------------------------------------------------------\")\n",
        "# print(\"ppn.fit(X,y)\")\n",
        "# print(ppn.fit(X,y))\n",
        "# print(\"------------------------------------------------------------------------------------------------\")\n",
        "# print(\"ppn.predict(X)\")\n",
        "# print(ppn.predict(X))\n",
        "# print(ppn.errors_)\n",
        "# エポック数と誤分類誤差を折れ線グラフでプロット\n",
        "# plt.plot(range(1, len(ppn.errors_) + 1), ppn.errors_, marker='o')\n",
        "# plt.xlabel('Epochs')\n",
        "# plt.ylabel('Number of errors')\n",
        "# plt.show"
      ],
      "metadata": {
        "colab": {
          "base_uri": "https://localhost:8080/"
        },
        "id": "TQPWuXF8xCAi",
        "outputId": "ba24bcf1-b56c-465a-85cf-3f2d0c2b0264"
      },
      "execution_count": null,
      "outputs": [
        {
          "output_type": "stream",
          "name": "stdout",
          "text": [
            "------------------------------------------------------------------------------------------------\n",
            "ppn.net_input(X)\n",
            "[ 1.86850877e+02 -2.49661490e+02 -1.40253107e+02  2.42792228e+02\n",
            " -7.31008177e+01 -3.83816846e+02 -1.19863511e+02  5.60538183e+01\n",
            " -4.54948809e+01  5.10604390e+01 -1.42962035e+02 -1.77171242e+02\n",
            "  4.66959640e+01 -2.13516882e+02  4.59557934e+01 -4.53162451e+02\n",
            " -1.77147181e+02  5.98299025e+01 -1.73328313e+02  3.10977492e+02\n",
            "  1.21432000e+02  4.59557934e+01  7.45037709e+01  9.43989625e+01\n",
            " -1.68771041e+02  1.77592665e+02 -1.98084997e+02  3.80397955e+02\n",
            " -1.52415389e+02 -1.37277016e+02 -2.88906743e+02 -2.15663873e+02\n",
            "  2.22093003e+02 -1.62727521e+02 -1.53410779e+02  4.61706262e+01\n",
            "  2.09600646e+01  1.22339972e+02 -1.30813840e+02 -2.12633490e+02\n",
            "  1.29296053e+03 -1.46004419e+02 -2.42433487e+02 -4.21890645e+02\n",
            " -2.12633490e+02  3.79102693e+01 -1.93647551e+02  7.90655523e+01\n",
            " -8.36882436e+01  1.50827941e+02 -1.58853210e+02  1.86199028e+02\n",
            " -1.52584067e+02 -1.87365662e+02  6.13043983e+01  1.16471544e+02\n",
            " -2.12633490e+02  2.83907476e+01 -8.33379985e+01 -1.87269267e+02\n",
            "  5.26485209e+01 -3.25672554e+02 -1.96385809e+02 -1.50611580e+02\n",
            " -1.52444920e+02 -8.65657147e+01  1.23213440e+02 -6.03446881e+01\n",
            " -1.10257818e+02  2.72986518e+02 -1.18262105e+02 -1.95235752e+02\n",
            "  1.35788603e+02 -2.32882644e+02 -2.71194210e+02  3.54998964e+02\n",
            " -3.92859163e+02 -3.25711829e+02 -3.03702666e+02 -1.20418013e+02\n",
            " -7.94499060e+01  2.50283123e+02 -1.12217621e+02  7.67751896e+01\n",
            " -2.28416036e+02 -3.08578934e+02  3.53584614e+01 -1.24151170e+02\n",
            " -2.20172930e+02  2.12390696e+01  2.05584722e+02  3.75438420e+01\n",
            " -2.57530135e+02 -1.10533407e+02  4.13951634e+01  6.54385422e+02\n",
            " -3.33820435e+02  8.77653922e+01 -3.57376230e+02 -2.87544392e+02\n",
            " -8.50918591e+01 -1.14909275e+02 -1.63436310e+02 -1.87371182e+02\n",
            "  3.87294790e+01 -2.43800695e+02 -2.01693368e+02 -1.66415425e+02\n",
            "  1.44065533e+02 -1.51405673e+02 -1.24855593e+02 -1.52958432e+02\n",
            " -1.03548154e+02 -3.87079061e+02 -1.59781855e+02  2.00854326e+02\n",
            " -1.79272981e+02  5.18406524e+01 -1.00762854e+02 -6.32531983e+01\n",
            "  4.66401804e+02  4.65932280e+02 -5.66671438e+01 -1.87269267e+02\n",
            " -2.43604882e+02  7.12484533e+02 -1.38692401e+02  4.59557934e+01\n",
            "  1.33673896e+02 -8.80076155e+01 -2.59744813e+02 -4.33854837e+02\n",
            " -2.01886438e+02 -1.08634828e+02 -1.11787955e+02 -2.06428361e+02\n",
            " -1.59736603e+02 -2.71194210e+02  9.97360727e+01  4.50047398e+02\n",
            "  5.56381558e+02 -1.89810236e+02 -6.17411384e+01 -1.33844780e+02\n",
            "  9.06789217e+02  4.59557934e+01  6.81108229e+02  6.72445191e+02\n",
            " -2.92373949e+02 -1.94662864e+02  6.92129950e+01  1.03295815e+02\n",
            " -3.57376230e+02  7.45687850e+02 -4.41661635e+02 -7.12978570e+00\n",
            "  4.03230949e+02  2.91318905e+01  5.23153622e+02 -2.13516882e+02\n",
            "  7.28771376e+01 -1.64244170e+02 -7.41082295e+00  1.28597528e+03\n",
            " -1.52444920e+02  1.38982815e+01 -7.12638264e+01 -2.95049321e+02\n",
            " -1.76763169e+02 -1.92457856e+02 -1.00281401e+01  4.66959640e+01\n",
            " -3.72845704e+02 -2.19318328e+02  4.59557934e+01  4.49495720e+02\n",
            "  7.70822145e+01 -1.92626748e+02  6.10256323e+02  6.97887502e+01\n",
            "  9.35378181e+02  2.30732811e+02  1.80549115e+02  2.43048760e+02\n",
            "  3.94236448e+00 -1.87388427e+02  6.55597503e+02  3.53734188e+01\n",
            "  1.03828655e+01 -1.52796602e+02 -2.78318609e+02  9.18512902e+01\n",
            " -2.22291924e+02 -5.59304162e+01 -2.13516882e+02 -1.92377704e+02\n",
            " -3.13244870e+02  2.05915706e+01  5.50942141e+01  1.75847067e+02\n",
            " -1.26599407e+02 -2.12633858e+01  8.14890232e+01  1.97167024e+02\n",
            " -2.28705733e+02 -9.67683087e+01  1.38982815e+01 -1.29226158e+02\n",
            "  6.42220195e+02 -9.67890760e+01  8.04378897e+02 -2.34195137e+02\n",
            " -2.12275435e+02  3.13149371e+02  1.64549507e+02  1.54607848e+02\n",
            " -2.41785309e+02 -2.72175217e+02 -2.12633490e+02 -1.68444800e+02\n",
            " -1.87269267e+02 -2.42676238e+02 -3.13105723e+02 -2.12633490e+02\n",
            " -2.59744813e+02 -1.87412489e+02  1.84295171e+02 -2.17216589e+02\n",
            " -1.79943996e+01  1.39474764e+02 -1.61884931e+02 -1.84114492e+02\n",
            "  3.98246350e+02 -2.14735229e+02 -1.97174939e+02 -1.72244924e+02\n",
            "  7.46128414e+02 -1.74279995e+02  4.52637453e+01  5.63725812e+02\n",
            " -1.08637074e+02 -1.17839264e+02  9.07456942e+01 -1.82385754e+02\n",
            " -1.54154157e+02 -1.75998657e+02 -1.86688826e+02 -9.33157231e+01\n",
            " -2.62716155e+02 -2.78318609e+02  2.19987671e+01 -2.15517598e+02\n",
            "  6.20268676e+02  2.75451815e+02  2.60640518e+02  1.24076321e+01\n",
            " -1.79677046e+02  1.94527840e+02  1.44356294e+02 -1.40139719e+02\n",
            " -2.54325350e+02  4.28810246e+02 -9.19400550e+01 -1.86815540e+02\n",
            "  7.27964093e+01 -3.34266887e+02  5.88913587e+01 -2.26674345e+01\n",
            " -1.87269267e+02 -1.70536240e+02 -1.86210293e+02 -1.77147181e+02\n",
            " -2.29827447e+02 -9.79754512e-01 -1.16941696e+02 -1.00946212e+02\n",
            "  1.79128691e+01  1.74950716e+02 -2.29421843e+02  4.92840371e+02\n",
            " -2.80541867e+02 -1.68649541e+02 -2.94662722e+02 -2.12633490e+02\n",
            " -2.54960699e+02  2.52467025e+02 -2.86268984e+01 -2.14603308e+02\n",
            " -2.54513937e+02 -1.77171242e+02 -8.20421398e+01  2.50568314e+01\n",
            " -2.13516882e+02 -1.78344115e+01 -1.05476506e+02 -2.66490913e+02\n",
            " -2.15618621e+02 -6.71540017e+01  1.78257698e+02 -1.50591786e+02\n",
            " -2.18362364e+02 -1.87269267e+02 -2.96399960e+02  3.97375516e+01\n",
            " -9.83977694e+01 -1.50731427e+02 -1.52989672e+02 -1.05750517e+02\n",
            " -1.87677612e+02 -1.87364939e+02 -4.40236811e+02 -2.60738695e+02\n",
            " -2.29421843e+02 -2.08550921e+02 -2.19326779e+02 -1.46004419e+02\n",
            "  4.49495720e+02  3.83748298e+01  6.45221603e+01  1.49674306e+02\n",
            "  1.56116650e+02  2.57497152e+02 -2.49125504e+02 -2.35002144e+02\n",
            " -2.59821685e+02 -1.98409545e+02  3.96337682e+01 -2.14208930e+02\n",
            " -3.05543509e+02  3.48500196e+01 -1.94356434e+02 -1.32487642e+02\n",
            "  1.12577284e+02  2.63321502e+03 -1.38151278e+02 -3.38080087e+02\n",
            " -7.59231192e+01 -1.25747656e+02  1.24859810e+03  3.90943668e+00\n",
            "  2.33748766e+02  6.49064241e+01 -3.12528761e+02  4.58601212e+01\n",
            " -3.00849806e+02  1.41898941e+02 -1.54492294e+02 -1.75763083e+02\n",
            " -1.96065671e+02 -2.21323160e+02 -1.08637074e+02 -3.41046733e+02\n",
            "  1.25815337e+03  5.24874487e+01 -2.37266426e+02 -1.82442492e+02\n",
            " -3.27076228e+02 -1.10746064e-01  1.18809592e+03 -2.59744813e+02\n",
            " -1.38474416e+02 -1.38474416e+02 -1.21116853e+02  2.67749162e+03\n",
            " -2.13516882e+02  9.41590854e+01 -1.79517004e+02 -2.25602505e+02\n",
            " -1.37151502e+02  4.58538783e+01  6.53898534e+01 -1.96356258e+02\n",
            " -5.90302492e+01  9.06273952e+01 -6.40024954e+01 -2.02221004e+02\n",
            " -1.12141466e+02 -2.42676238e+02  4.44976523e+02  4.88544644e+02\n",
            "  2.17496924e+02  4.03614281e+01 -1.64516847e+02 -1.57070120e+02\n",
            " -1.77171242e+02 -2.29188198e+02 -1.32630863e+02 -1.87269267e+02\n",
            "  2.18471409e+02  1.05301104e+03  3.34928029e+02 -2.51802242e+02\n",
            "  1.19310967e+02 -1.87269267e+02 -1.51022796e+01 -1.24151170e+02\n",
            " -4.46977365e+01 -1.80692360e+02 -2.50238453e+02  1.51326754e+01\n",
            " -1.79248920e+02  2.46741390e+01  4.29950892e+02 -1.99938012e+02\n",
            " -2.23295922e+02  2.00821381e+02 -2.36619630e+02 -2.18227855e+02\n",
            " -1.90270536e+02 -8.64351583e+01  6.49064241e+01 -1.87269267e+02\n",
            "  2.12751900e+02  1.47335314e+02 -4.07724187e+01 -1.29479982e+02\n",
            "  3.34007323e+02 -1.48359022e+02 -1.45598815e+02  1.88168308e+02\n",
            " -1.20418013e+02 -3.01422694e+02 -3.57376230e+02 -2.10356313e+02\n",
            "  4.70330994e+02 -1.85891167e+02  2.56604472e+02 -3.02750137e+01\n",
            "  7.24690502e+01  7.20004418e+02  5.29268221e+01 -3.62487222e+02\n",
            " -1.85907953e+02 -1.24151170e+02 -3.79691494e+01  1.94584201e+01\n",
            " -2.04326621e+02 -1.05556905e+02  6.26096833e+01 -2.55151818e+02\n",
            " -3.28042087e+02  1.10219843e+02  2.68068763e+02 -1.85537842e+02\n",
            " -1.85771819e+01]\n",
            "------------------------------------------------------------------------------------------------\n",
            "ppn.fit(X,y)\n",
            "<__main__.Perceptron object at 0x7f54b3eae250>\n",
            "------------------------------------------------------------------------------------------------\n",
            "ppn.predict(X)\n",
            "[1 0 0 1 0 0 0 1 0 1 0 0 1 0 1 0 0 1 0 1 1 1 1 1 0 1 0 1 0 0 0 0 1 0 0 1 1\n",
            " 1 0 0 1 0 0 0 0 1 0 1 0 1 0 1 0 0 1 1 0 1 0 0 1 0 0 0 0 0 1 0 0 1 0 0 1 0\n",
            " 0 1 0 0 0 0 0 1 0 1 0 0 1 0 0 1 1 1 0 0 1 1 0 1 0 0 0 0 0 0 1 0 0 0 1 0 0\n",
            " 0 0 0 0 1 0 1 0 0 1 1 0 0 0 1 0 1 1 0 0 0 0 0 0 0 0 0 1 1 1 0 0 0 1 1 1 1\n",
            " 0 0 1 1 0 1 0 0 1 1 1 0 1 0 0 1 0 1 0 0 0 0 0 1 0 0 1 1 1 0 1 1 1 1 1 1 1\n",
            " 0 1 1 1 0 0 1 0 0 0 0 0 1 1 1 0 0 1 1 0 0 1 0 1 0 1 0 0 1 1 1 0 0 0 0 0 0\n",
            " 0 0 0 0 1 0 0 1 0 0 1 0 0 0 1 0 1 1 0 0 1 0 0 0 0 0 0 0 1 0 1 1 1 1 0 1 1\n",
            " 0 0 1 0 0 1 0 1 0 0 0 0 0 0 0 0 0 1 1 0 1 0 0 0 0 0 1 0 0 0 0 0 1 0 0 0 0\n",
            " 0 0 1 0 0 0 0 1 0 0 0 0 0 0 0 0 0 0 0 0 1 1 1 1 1 1 0 0 0 0 1 0 0 1 0 0 1\n",
            " 1 0 0 0 0 1 1 1 1 0 1 0 1 0 0 0 0 0 0 1 1 0 0 0 0 1 0 0 0 0 1 0 1 0 0 0 1\n",
            " 1 0 0 1 0 0 0 0 1 1 1 1 0 0 0 0 0 0 1 1 1 0 1 0 0 0 0 0 0 1 0 1 1 0 0 1 0\n",
            " 0 0 0 1 0 1 1 0 0 1 0 0 1 0 0 0 0 1 0 1 0 1 1 1 0 0 0 0 1 0 0 1 0 0 1 1 0\n",
            " 0]\n",
            "[204, 191, 196, 181, 186, 178, 180, 163, 171, 158, 162, 167, 154, 157, 176, 159, 159, 161, 155, 155, 160, 150, 157, 154, 153, 144, 156, 157, 157, 156, 160, 157, 154, 143, 151, 139, 138, 158, 146, 145, 153, 138, 150, 144, 146, 141, 152, 153, 153, 155, 151, 133, 146, 144, 146, 142, 142, 139, 147, 128, 150, 143, 146, 145, 142, 139, 149, 140, 152, 149, 139, 144, 147, 139, 145, 150, 142, 146, 143, 146, 144, 144, 141, 148, 147, 138, 145, 147, 142, 147, 141, 144, 138, 138, 150, 137, 146, 136, 143, 141]\n"
          ]
        }
      ]
    },
    {
      "cell_type": "code",
      "source": [
        "pred = ppn.predict(test_df)\n",
        "print(pred)"
      ],
      "metadata": {
        "colab": {
          "base_uri": "https://localhost:8080/"
        },
        "id": "IvBBTxTgxfsx",
        "outputId": "a914e71b-aad0-48df-9c80-21f32f305ed9"
      },
      "execution_count": null,
      "outputs": [
        {
          "output_type": "stream",
          "name": "stdout",
          "text": [
            "[0 1 1 0 0 0 1 0 1 0 0 1 0 0 1 1 0 1 1 0 0 1 1 0 0 0 0 1 0 0 1 0 0 0 1 0 0\n",
            " 1 0 1 1 0 0 0 1 1 0 0 0 0 0 0 1 1 0 1 0 0 0 0 0 1 1 0 1 0 0 0 0 1 1 1 1 0\n",
            " 0 0 0 0 1 0 0 0 0 0 0 0 0 0 1 0 0 0 0 0 1 0 0 1 0 1 0 1 0 0 0 1 0 1 0 1 0\n",
            " 1 1 0 0 0 0 1 0 1 1 0 0 0 1 1 0 0 1 1 0 0 0 0 0 1 1 0 0 0 1 0 0 1 0 0 0 0\n",
            " 0 0 0 1 0 0 1 0 0 1 0 1 0 1 1 1 1 0 1 1 0 1 1 0 1 0 0 1 1 0 0 0 1 0 0 0 0\n",
            " 0 1 1 0 0 0 0 1 1 0 1 1 0 0 1 0 0 0 1 1 0 0 0 0 1 0 1 0 0 0 0 1 0 1 0 0 0\n",
            " 0 0 0 0 0 1 0 0 0 1 0 0 0 1 0 1 0 0 0 0 0 0 1 1 0 0 1 0 0 0 1 0 0 0 0 0 0\n",
            " 0 0 1 0 1 0 1 1 0 1 1 1 0 1 0 0 1 0 0 1 0 1 0 0 1 1 0 0 0 1 0 1 1 0 0 1 0\n",
            " 0 0 0 1 1 1 0 1 0 0 0 1 0 0 1 1 0 1 1 0 0 0 0 1 0 0 1 1 0 1 1 1 0 0 0 0 0\n",
            " 1 1 1 0 0 0 0 1 0 0 0 0 0 1 1 0 0 0 0 0 0 1 1 0 0 0 1 1 0 0 0 0 1 0 1 0 0\n",
            " 1 0 1 0 0 0 1 0 1 0 0 0 0 0 0 1 0 0 0 0 1 0 0 0 1 0 0 0 1 0 0 0 1 0 0 0 1\n",
            " 0 1 0 0 0 1 0 1 0 1 0 0 0 1 0 0 0 0 0 1 0 0 0 0 1 0 1 0 0 0 1 0 1 0 0 0 1\n",
            " 0 0]\n"
          ]
        }
      ]
    },
    {
      "cell_type": "markdown",
      "source": [
        ""
      ],
      "metadata": {
        "id": "ixrsweuhv16L"
      }
    },
    {
      "cell_type": "markdown",
      "source": [
        "### ADALINE"
      ],
      "metadata": {
        "id": "fg5-4o6HgNaY"
      }
    },
    {
      "cell_type": "markdown",
      "source": [
        "#### クラス定義"
      ],
      "metadata": {
        "id": "10iPlqr2gUB-"
      }
    },
    {
      "cell_type": "code",
      "source": [
        "import numpy as np\n",
        "class AdalineGD(object):\n",
        "    '''ADAptive LInear NEuron 分類器\n",
        "    \n",
        "    パラメータ\n",
        "    ----------------\n",
        "    eta:float\n",
        "        学習率(0.0より大きく1.0以下の値)\n",
        "    n_iter:int\n",
        "        トレーニングデータのトレーニング回数\n",
        "    random_state:int\n",
        "        重みを初期化するための乱数シード\n",
        "    \n",
        "    属性\n",
        "    -----------------\n",
        "    w_:1次元配列\n",
        "        適合後の重み\n",
        "    cost_:リスト\n",
        "        各エポックでの誤差平方和のコスト関数\n",
        "\n",
        "    '''\n",
        "\n",
        "    # 初期化の関数 クラスをインスタンス化する時に使う奴\n",
        "    def __init__(self, eta=0.01, n_iter=50, random_state=1):\n",
        "        self.eta = eta\n",
        "        self.n_iter = n_iter\n",
        "        self.random_state = random_state\n",
        "\n",
        "    # 適合する関数\n",
        "    def fit(self, X, y):\n",
        "        '''トレーニングデータに適合させる\n",
        "\n",
        "        パラメータ\n",
        "        ------------\n",
        "        X:{配列のようなデータ構造}、shape = {n_samples, n_features}\n",
        "        トレーニングデータ、n_samplesはサンプルの個数、n_featuresは特徴量の個数\n",
        "\n",
        "        y:配列のようなデータ構造、shape = {n_samples}\n",
        "        目的変数\n",
        "\n",
        "        戻り値\n",
        "        ------------\n",
        "        self : object\n",
        "        '''\n",
        "        # rgenは乱数を発生させるやつ\n",
        "        rgen = np.random.RandomState(self.random_state)\n",
        "        # self.w_はランダムに重みを設定する。wの形としては、(12,1)となり、(特徴量の数+1)次元のベクトルである\n",
        "        self.w_ = rgen.normal(loc=0.0, scale=0.01, size=1+X.shape[1])\n",
        "        self.cost_ = []\n",
        "\n",
        "        # 繰り返し処理を行う\n",
        "        for i in range(self.n_iter): #トレーニング回数分トレーニングデータを反復\n",
        "            net_input = self.net_input(X)\n",
        "            \n",
        "            # activationメソッドは単なる恒等関数であるため、このコードでは何の効果もないことに注意する。\n",
        "            # 代わりに、直接`output = self.net_input(X)`と記述することもできた\n",
        "            # activationメソッド(活性化関数)の目的は、より概念的なものである\n",
        "            # ロジスティック回帰の場合は、分類器の実装をシグモイド関数に変更したりする\n",
        "            output = self.activation(net_input)\n",
        "            \n",
        "            # 誤差の計算yi - φ(z(i))\n",
        "            errors = (y - output)\n",
        "            # w1, ..., wmの更新\n",
        "            # Δwj = ηΣ(yi - φ(z(i))) * xji(j = 1,,,,m)\n",
        "            self.w_[1:] += self.eta * X.T.dot(errors)\n",
        "            # w0の更新 Δw0 = ηΣ(yi - φ(z(i)))\n",
        "            self.w_[0] += self.eta * errors.sum()\n",
        "            # コスト関数の計算J(w) = 1/2 Σ(yi - φ(z(i)))^2\n",
        "            cost = (errors**2).sum() / 2.0\n",
        "            # コストの格納\n",
        "            self.cost_.append(cost)\n",
        "        return self\n",
        "\n",
        "    # 入力\n",
        "    def net_input(self, X):\n",
        "        ''' 総入力を計算\n",
        "            np.dotは行列の内積計算を行う\n",
        "         '''\n",
        "        return np.dot(X, self.w_[1:]) + self.w_[0]\n",
        "\n",
        "    # 活性化関数\n",
        "    def activation(self, X):\n",
        "        '''線形活性化関数の出力を計算'''\n",
        "        return X\n",
        "\n",
        "    # 予測\n",
        "    def predict(self,X):\n",
        "        '''\n",
        "            ステップ関数の実装\n",
        "            1ステップ後のクラスラベルを返す\n",
        "        '''\n",
        "        return np.where(self.activation(self.net_input(X)) >= 0.0, 1, 0)"
      ],
      "metadata": {
        "id": "j4Wx5QNegSWD"
      },
      "execution_count": null,
      "outputs": []
    },
    {
      "cell_type": "markdown",
      "source": [
        "##### ~決定境界をプロットする関数の定義~\n",
        "\n",
        "(特徴量が2個でないためプロット出来ない?)"
      ],
      "metadata": {
        "id": "p5TPFfrQtMoo"
      }
    },
    {
      "cell_type": "code",
      "source": [
        "# 決定境界をプロットする関数の定義\n",
        "\n",
        "from matplotlib.colors import ListedColormap\n",
        "import numpy as np\n",
        "def plot_decision_regions(X,y, classifier, resolution = 0.02):\n",
        "\n",
        "    # マーカーとカラーマップの準備\n",
        "    markers=('s', 'x', 'o', '^', 'v')\n",
        "    colors = ('red', 'blue', 'lightgreen', 'gray', 'cyan')\n",
        "    cmap = ListedColormap(colors[:len(np.unique(y))])\n",
        "\n",
        "    # 決定領域のプロット\n",
        "    x1_min, x1_max = X[:, 0].min() - 1, X[:, 0].max() + 1\n",
        "    x2_min, x2_max = X[:, 0].min() - 1, X[:, 0].max() + 1\n",
        "\n",
        "    # グリッドポイントの生成\n",
        "    xx1, xx2 = np.meshgrid(np.arange(x1_min, x1_max, resolution), np.arange(x2_min, x2_max, resolution))\n",
        "\n",
        "    # 各特徴量を1次元配列に変換して予測を実行\n",
        "    Z = classifier.predict(np.array([xx1.ravel(), xx2.ravel()]).T)\n",
        "    # 予測結果を元のグリッドポイントのデータサイズに変換\n",
        "    Z = Z.reshape(xx1.shape)\n",
        "    # グリッドポイントの等高線のプロット\n",
        "    plt.contourf(xx1,xx2,Z,alpha=0.3, cmap=cmap)\n",
        "    # 軸の範囲の設定\n",
        "    plt.xlim(xx1.min(), xx1.max())\n",
        "    plt.ylim(xx1.min(), xx1.max())\n",
        "\n",
        "    # クラスごとにサンプルをプロット\n",
        "    for idx, cl in enumerate(np.unique(y)):\n",
        "        plt.scatter(x=X[y == cl, 0], y=X[y==cl,1],alpha=0.8,c=colors[idx],marker=markers[idx],label=cl,edgecolor='black')"
      ],
      "metadata": {
        "id": "UQUgUFeWlxML"
      },
      "execution_count": null,
      "outputs": []
    },
    {
      "cell_type": "markdown",
      "source": [
        "#### 描画\n"
      ],
      "metadata": {
        "id": "X-T61ZFH603w"
      }
    },
    {
      "cell_type": "markdown",
      "source": [
        "##### 横軸：エポック数、縦軸：誤差平方和のlog\n",
        "\n",
        "> 標準化っぽいことをしないとうまくいかないらしいす"
      ],
      "metadata": {
        "id": "GgfPIkQR7mcg"
      }
    },
    {
      "cell_type": "code",
      "source": [
        "# 描画等をしてみる\n",
        "fig, ax = plt.subplots(nrows=1, ncols=2, figsize=(10,4))\n",
        "\n",
        "    # 勾配降下法によるADALINEの学習(学習率eta=0.01)\n",
        "ada1 = AdalineGD(n_iter=10, eta=0.01).fit(X,y)\n",
        "# エポック数とコストの関係を表す折れ線グラフのプロット(縦軸のコストは常用対数)\n",
        "ax[0].plot(range(1,len(ada1.cost_)+1), np.log10(ada1.cost_), marker='o')\n",
        "# 軸のラベルの設定\n",
        "ax[0].set_xlabel('Epochs')\n",
        "ax[0].set_ylabel('log(Sum-squared-error)')\n",
        "# タイトルの設定\n",
        "ax[0].set_title('Adaline - Learning rate 0.01')\n",
        "\n",
        "    # 勾配降下法によるADALINEの学習(学習率eta=0.0001)\n",
        "ada2 = AdalineGD(n_iter=10, eta=0.0001).fit(X,y)\n",
        "# エポック数とコストの関係を表す折れ線グラフのプロット(縦軸のコストは常用対数)\n",
        "ax[1].plot(range(1,len(ada2.cost_)+1), np.log10(ada2.cost_), marker='o')\n",
        "# 軸のラベルの設定\n",
        "ax[1].set_xlabel('Epochs')\n",
        "ax[1].set_ylabel('log(Sum-squared-error)')\n",
        "# タイトルの設定\n",
        "ax[1].set_title('Adaline - Learning rate 0.0001')\n",
        "\n",
        "\n",
        "# print('---------------------------------------------------------------------------------------')\n",
        "# print(ada1.w_)\n",
        "# print(ada1.cost_)\n",
        "# print(ada1.net_input(X))\n",
        "# print(ada1.activation(X))\n",
        "# print(ada1.predict(X))\n",
        "# print('---------------------------------------------------------------------------------------')\n",
        "\n",
        "# 図の表示\n",
        "plt.show()"
      ],
      "metadata": {
        "colab": {
          "base_uri": "https://localhost:8080/",
          "height": 295
        },
        "id": "lrpt8L1sUzED",
        "outputId": "d7768ccd-83c2-4f54-b0d2-498efccc5da8"
      },
      "execution_count": null,
      "outputs": [
        {
          "output_type": "display_data",
          "data": {
            "text/plain": [
              "<Figure size 720x288 with 2 Axes>"
            ],
            "image/png": "[encoded data removed]"
          },
          "metadata": {
            "needs_background": "light"
          }
        }
      ]
    },
    {
      "cell_type": "markdown",
      "source": [
        "#### 標準化っぽい事"
      ],
      "metadata": {
        "id": "rLUbqU-LcmSF"
      }
    },
    {
      "cell_type": "code",
      "source": [
        "# データのコピーを行う\n",
        "X_std = np.copy(X)\n",
        "# print(X)\n",
        "# print(X.iloc[:445,:5])\n",
        "\n",
        "# Xのデータ型はpandasのdataframeだが、X_stdのデータ型はnumpyのndarray\n",
        "# print(type(X))\n",
        "# print(type(X_std))\n",
        "\n",
        "# dataframeはiloc,ndarrayはスライスを適用できる。。\n",
        "for a in range(10):\n",
        "    X_std[:,a] = (X.iloc[:,a] - X.iloc[:,a].mean()) / X.iloc[:,a].std()\n",
        "\n",
        "print(X_std.shape)    "
      ],
      "metadata": {
        "colab": {
          "base_uri": "https://localhost:8080/"
        },
        "id": "pc4yL3KbcsrG",
        "outputId": "b5a95bcc-653b-4c3c-9e61-a9c136ab1c61"
      },
      "execution_count": null,
      "outputs": [
        {
          "output_type": "stream",
          "name": "stdout",
          "text": [
            "(445, 10)\n"
          ]
        }
      ]
    },
    {
      "cell_type": "markdown",
      "source": [
        "##### 横軸：エポック回数、縦軸：コスト関数\n",
        "\n",
        "> etaが0.1等大きすぎるとうまく収束しない"
      ],
      "metadata": {
        "id": "oShX-mc467RX"
      }
    },
    {
      "cell_type": "code",
      "source": [
        "# 描画等をしてみる\n",
        "fig, ax = plt.subplots(nrows=1, ncols=2, figsize=(10,4))\n",
        "\n",
        "    # 勾配降下法によるADALINEの学習(学習率eta=0.01)\n",
        "ada1 = AdalineGD(n_iter=30, eta=0.01).fit(X_std,y)\n",
        "# エポック数とコストの関係を表す折れ線グラフのプロット(縦軸のコストは常用対数)\n",
        "ax[0].plot(range(1,len(ada1.cost_)+1), np.log10(ada1.cost_), marker='o')\n",
        "# 軸のラベルの設定\n",
        "ax[0].set_xlabel('Epochs')\n",
        "ax[0].set_ylabel('log(Sum-squared-error)')\n",
        "# タイトルの設定\n",
        "ax[0].set_title('Adaline - Learning rate 0.01')\n",
        "\n",
        "    # 勾配降下法によるADALINEの学習(学習率eta=0.0001)\n",
        "ada2 = AdalineGD(n_iter=30, eta=0.0001).fit(X_std,y)\n",
        "# エポック数とコストの関係を表す折れ線グラフのプロット(縦軸のコストは常用対数)\n",
        "ax[1].plot(range(1,len(ada2.cost_)+1), np.log10(ada2.cost_), marker='o')\n",
        "# 軸のラベルの設定\n",
        "ax[1].set_xlabel('Epochs')\n",
        "ax[1].set_ylabel('log(Sum-squared-error)')\n",
        "# タイトルの設定\n",
        "ax[1].set_title('Adaline - Learning rate 0.0001')\n",
        "\n",
        "\n",
        "\n",
        "# plot_decision_regions(X_std,y,classifier=ada)\n",
        "# plt.title('Adaline - Gradient Descent')\n",
        "# plt.xlabel('・・・・')\n",
        "# plt.ylabel('・・・・')\n",
        "# plt.legend(loc='upper left')\n",
        "# plt.tight_layout()\n",
        "# plt.show()\n",
        "\n",
        "# # \n",
        "# plt.plot(range(1,len(ada.cost_)+1),ada.cost_,marker='o')\n",
        "# plt.xlabel('Epochs')\n",
        "# plt.ylabel('Sum-squared-error')\n",
        "# plt.tight_layout()\n",
        "# plt.show()"
      ],
      "metadata": {
        "colab": {
          "base_uri": "https://localhost:8080/",
          "height": 312
        },
        "id": "eR1O-HpUcMRj",
        "outputId": "d66d1b28-8651-4963-9898-7b4d842597fd"
      },
      "execution_count": null,
      "outputs": [
        {
          "output_type": "execute_result",
          "data": {
            "text/plain": [
              "Text(0.5, 1.0, 'Adaline - Learning rate 0.0001')"
            ]
          },
          "metadata": {},
          "execution_count": 166
        },
        {
          "output_type": "display_data",
          "data": {
            "text/plain": [
              "<Figure size 720x288 with 2 Axes>"
            ],
            "image/png": "[encoded data removed]"
          },
          "metadata": {
            "needs_background": "light"
          }
        }
      ]
    },
    {
      "cell_type": "markdown",
      "source": [
        "### 確率的勾配降下法の実装"
      ],
      "metadata": {
        "id": "VoNHXh1nvbBE"
      }
    },
    {
      "cell_type": "markdown",
      "source": [
        "#### クラス定義"
      ],
      "metadata": {
        "id": "O-dk7hTV82r8"
      }
    },
    {
      "cell_type": "code",
      "source": [
        "from numpy.random import seed\n",
        "\n",
        "class AdalineSGD(object):\n",
        "    '''ADAptive LInear NEuron 分類器\n",
        "\n",
        "    パラメータ\n",
        "    ---------------------\n",
        "    eta : float\n",
        "        学習率(0.0より大きく1.0以下の値)\n",
        "    n_iter : int\n",
        "        トレーニングデータのトレーニング回数\n",
        "    shuffle : bool(デフォルト：True)\n",
        "        Trueの場合は、循環を回避するためにエポックごとにトレーニングデータをシャッフル\n",
        "    random_state : int\n",
        "        重みを初期化するための乱数シード\n",
        "\n",
        "    属性\n",
        "    --------------------\n",
        "    w_ : 1次元配列\n",
        "        適合後の重み\n",
        "    cost_: リスト\n",
        "        各エポックで全てのトレーニングサンプルの平均を求める誤差平方和コスト関数\n",
        "\n",
        "    '''\n",
        "    def __init__(self, eta=0.01, n_iter=10, shuffle=True, random_state=None):\n",
        "        # 学習率の初期化\n",
        "        self.eta = eta\n",
        "        # トレーニング回数の初期化\n",
        "        self.n_iter = n_iter\n",
        "        # 重みの初期化フラグはFalseに設定\n",
        "        self.w_initialized = False\n",
        "        # 各エポックでトレーニングデータをシャッフルするかどうかのフラグを初期化\n",
        "        self.shuffle = shuffle\n",
        "        # 乱数シードを設定\n",
        "        self.random_state = random_state\n",
        "\n",
        "    def fit(self, X, y):\n",
        "        '''トレーニングデータに適合させる\n",
        "\n",
        "        パラメータ\n",
        "        ----------------\n",
        "        X : {配列のようなデータ構造}、shape = [n_samples, n_features]\n",
        "            トレーニングデータ\n",
        "            n_samplesはサンプルの個数、n_featuresは特徴量の個数\n",
        "        y : 配列のようなデータ構造、 shape = [n_samples]\n",
        "            目的変数\n",
        "        \n",
        "        戻り値\n",
        "        ----------------\n",
        "        self : object\n",
        "\n",
        "        '''\n",
        "        # 重みベクトルの生成\n",
        "        self._initialize_weights(X.shape[1])\n",
        "        # コストを格納するリストの生成\n",
        "        self.cost_ = []\n",
        "        # トレーニング回数分トレーニングデータを反復\n",
        "        for i in range(self.n_iter):\n",
        "            # 指定された場合はトレーニングデータをシャッフル\n",
        "            if self.shuffle:\n",
        "                X, y = self._shuffle(X, y)\n",
        "            # 各サンプルのコストを格納するリストの生成\n",
        "            cost = []\n",
        "            # 各サンプルに対する計算\n",
        "            for xi, target in zip(X, y):\n",
        "                # 特徴量xiと目的変数yを用いた重みの更新とコストの計算\n",
        "                cost.append(self._update_weights(xi, target))\n",
        "            # サンプルの平均コストの計算\n",
        "            avg_cost = sum(cost)/len(y)\n",
        "            # 平均コストを格納\n",
        "            self.cost_.append(avg_cost)\n",
        "        return self\n",
        "\n",
        "    def partial_fit(self,X, y):\n",
        "        '''重みを再初期化することなくトレーニングデータに適合させる'''\n",
        "        # 初期化されていない場合は初期化を実行\n",
        "        if not self.w_initialized:\n",
        "            self._initialize_weights(X.shape[1])\n",
        "        #目的変数yの要素数が2以上の場合は各サンプルの特徴量xiと目的変数targetで重みを更新\n",
        "        if y.ravel().shape[0] > 1:\n",
        "            for xi, target in zip(X,y):\n",
        "                self._update_weights(xi, target)\n",
        "        # 目的変数yの要素数が1の場合はサンプル全体の特徴量Xと目的変数yで重みを更新\n",
        "        else:\n",
        "            self._update_weights(X,y)\n",
        "        return self\n",
        "    \n",
        "    def _shuffle(self, X,y):\n",
        "        '''トレーニングデータをシャッフル'''\n",
        "        r = self.rgen.permutation(len(y))\n",
        "        # 今回、Xが二次元配列のため、スライスの指定の仕方に注意する。\n",
        "        # 直ぐ下のセルを実行する場合、Xのデータ型はnumpyのndarray、yのデータ型はpandasのSeriesである\n",
        "        return X[r,:], y.iloc[r]\n",
        "\n",
        "    def _initialize_weights(self, m):\n",
        "        '''重みを小さな乱数に初期化'''\n",
        "        self.rgen = np.random.RandomState(self.random_state)\n",
        "        self.w_ = self.rgen.normal(loc=0.0, scale=0.01, size=1 + m)\n",
        "        self.w_initialized = True\n",
        "    \n",
        "    def _update_weights(self, xi, target):\n",
        "        '''ADALINEの学習規則を用いて重みを更新'''\n",
        "        # 活性化関数の出力の計算\n",
        "        output = self.activation(self.net_input(xi))\n",
        "        # 誤差の計算\n",
        "        error = (target - output)\n",
        "        # 重みw1, ..., wmの更新\n",
        "        self.w_[1:] += self.eta * xi.dot(error)\n",
        "        # 重みw0の更新\n",
        "        self.w_[0] += self.eta * error\n",
        "        # コストの計算\n",
        "        cost = 0.5 * error ** 2\n",
        "        return cost\n",
        "    \n",
        "    def net_input(self, X):\n",
        "        '''総入力を計算'''\n",
        "        return np.dot(X, self.w_[1:]) + self.w_[0]\n",
        "\n",
        "    def activation(self, X):\n",
        "        '''線形活性化関数の出力を計算'''\n",
        "        return X\n",
        "\n",
        "    def predict(self, X):\n",
        "        '''1ステップ後のクラスラベルを返す'''\n",
        "        return np.where(self.activation(self.net_input(X)) >= 0.0, 1, 0)\n",
        "            "
      ],
      "metadata": {
        "id": "OdZhpEyynz4F"
      },
      "execution_count": null,
      "outputs": []
    },
    {
      "cell_type": "markdown",
      "source": [
        "#### 描画"
      ],
      "metadata": {
        "id": "pKLbnpL0Xc89"
      }
    },
    {
      "cell_type": "code",
      "source": [
        "# 確率的勾配降下法によるADALINEの学習\n",
        "ada = AdalineSGD(n_iter=30, eta=0.001, random_state=1)\n",
        "# モデルへの適合\n",
        "ada.fit(X_std,y)\n",
        "# エポックのコストの折れ線グラフのプロット\n",
        "plt.plot(range(1, len(ada.cost_) + 1), ada.cost_, marker='o')\n",
        "# 軸ラベルの設定\n",
        "plt.xlabel('Epochs')\n",
        "plt.ylabel('Average Cost')\n",
        "plt.show()"
      ],
      "metadata": {
        "colab": {
          "base_uri": "https://localhost:8080/",
          "height": 279
        },
        "id": "EaoO4PzLEZKU",
        "outputId": "d9678fcf-3539-4eab-e8eb-4789523135c8"
      },
      "execution_count": null,
      "outputs": [
        {
          "output_type": "display_data",
          "data": {
            "text/plain": [
              "<Figure size 432x288 with 1 Axes>"
            ],
            "image/png": "[encoded data removed]"
          },
          "metadata": {
            "needs_background": "light"
          }
        }
      ]
    },
    {
      "cell_type": "markdown",
      "source": [
        "#### 予測結果の投稿"
      ],
      "metadata": {
        "id": "8GmzK2tkXW69"
      }
    },
    {
      "cell_type": "markdown",
      "source": [
        "##### 確率的勾配降下法の予測結果を投稿してみる"
      ],
      "metadata": {
        "id": "PSc5INf7XgkL"
      }
    },
    {
      "cell_type": "code",
      "source": [
        "pred = ada.predict(X_std)\n",
        "# print(pred)\n",
        "pred = np.insert(pred,0,1)\n",
        "print(pred)"
      ],
      "metadata": {
        "colab": {
          "base_uri": "https://localhost:8080/"
        },
        "id": "5Wu3l3RbSWWo",
        "outputId": "d30c02fb-39e8-4d53-831a-4272a2657ad8"
      },
      "execution_count": null,
      "outputs": [
        {
          "output_type": "stream",
          "name": "stdout",
          "text": [
            "[1 1 1 1 1 1 0 1 1 1 1 1 1 1 1 1 1 1 1 1 1 1 1 1 1 1 1 1 1 1 1 1 1 1 1 1 1\n",
            " 1 1 1 1 1 1 1 0 1 1 1 1 1 1 1 1 1 1 1 1 1 1 1 1 1 1 1 1 1 1 1 1 1 1 1 1 1\n",
            " 1 1 1 0 1 1 1 1 1 1 1 1 0 1 1 1 1 1 1 1 1 1 1 1 1 0 1 1 1 1 1 1 1 1 1 1 1\n",
            " 1 1 1 1 1 1 1 1 1 1 1 1 1 1 1 1 1 1 1 1 1 1 1 1 1 1 1 1 1 1 1 1 1 1 1 1 1\n",
            " 1 1 1 1 1 0 1 0 1 1 1 1 1 1 1 1 1 1 1 1 1 1 1 1 1 0 1 1 1 1 1 1 1 1 1 1 1\n",
            " 1 1 1 1 1 1 1 1 1 1 1 1 1 1 1 1 1 1 1 1 1 1 1 1 1 1 1 1 1 1 1 1 1 1 1 1 1\n",
            " 1 1 1 1 1 1 1 1 1 1 1 1 1 1 1 1 1 1 1 1 1 1 1 1 1 1 1 1 1 1 1 1 1 1 1 1 1\n",
            " 1 1 1 1 1 1 1 1 1 1 1 1 1 1 1 1 1 1 1 1 1 1 1 1 1 1 1 1 1 1 1 1 1 1 1 1 1\n",
            " 1 1 1 1 1 1 1 1 1 1 1 1 1 1 1 1 1 1 1 1 1 1 1 1 1 1 1 1 1 1 1 1 1 1 1 1 1\n",
            " 1 1 1 1 1 1 1 1 1 1 1 1 1 1 1 1 1 1 1 1 1 1 1 1 1 1 1 1 1 1 1 1 1 1 1 1 1\n",
            " 1 1 1 1 1 1 1 1 1 1 1 1 1 1 1 1 1 1 1 1 1 1 1 1 1 1 1 1 1 1 1 1 1 1 1 1 1\n",
            " 1 1 1 1 1 1 1 1 1 1 1 1 1 1 1 1 0 1 1 1 1 1 1 1 1 0 1 1 1 1 1 1 1 1 1 1 1\n",
            " 1 1]\n"
          ]
        }
      ]
    },
    {
      "cell_type": "code",
      "source": [
        "#提出用データに予測した値を格納する \n",
        "submit_df[1] = pred\n",
        "submit_df.to_csv('adaSGD_submit.tsv', header=None, sep='\\t')"
      ],
      "metadata": {
        "id": "GMGZSN2dH9pu"
      },
      "execution_count": null,
      "outputs": []
    },
    {
      "cell_type": "code",
      "source": [
        "# !signate submit -c 102 -n \"first submit from google colab\" adaSGD_submit.tsv"
      ],
      "metadata": {
        "colab": {
          "base_uri": "https://localhost:8080/"
        },
        "id": "HnGB9UCuTL3-",
        "outputId": "bcf68de0-9ae2-4499-b184-8b0c08c52594"
      },
      "execution_count": null,
      "outputs": [
        {
          "output_type": "stream",
          "name": "stdout",
          "text": [
            "\u001b[32mYou have successfully submitted your predictions.We will send you the submission result to your email address.\u001b[0m\n"
          ]
        }
      ]
    },
    {
      "cell_type": "markdown",
      "source": [
        "## scikit-learn使用"
      ],
      "metadata": {
        "id": "E_52rpPXYqmE"
      }
    },
    {
      "cell_type": "markdown",
      "source": [
        "### いろいろ試す"
      ],
      "metadata": {
        "id": "jJGDGxI9aJbO"
      }
    },
    {
      "cell_type": "markdown",
      "source": [
        "訓練データ、検証データを改めて定義"
      ],
      "metadata": {
        "id": "mkkM3JiRkce5"
      }
    },
    {
      "cell_type": "code",
      "source": [
        "y_train = train_df[\"survived\"] # 目的変数\n",
        "X_train = train_df.drop([\"survived\"], axis=1) # 目的変数を除いたデータ\n",
        "X_test = test_df"
      ],
      "metadata": {
        "id": "cnbqsGXdkkD-"
      },
      "execution_count": null,
      "outputs": []
    },
    {
      "cell_type": "code",
      "source": [
        "from sklearn.preprocessing import StandardScaler\n",
        "# 特徴量のスケーリング(特徴量の標準化)を行う\n",
        "sc = StandardScaler()\n",
        "sc.fit(X)\n",
        "# 平均と標準偏差を用いて標準化する\n",
        "X_train_std = sc.transform(X_train)\n",
        "X_test_std = sc.transform(X_test)"
      ],
      "metadata": {
        "id": "WhEnJlsoZnTs"
      },
      "execution_count": null,
      "outputs": []
    },
    {
      "cell_type": "code",
      "source": [
        "# パーセプトロンをsklearnで\n",
        "\n",
        "from sklearn.linear_model import Perceptron\n",
        "# パーセプトロンのインスタンス化\n",
        "ppn = Perceptron(max_iter=40, eta0=0.1, random_state=1)\n",
        "ppn.fit(X_train_std,y)\n",
        "# 予測する\n",
        "y_pred = ppn.predict(X_test_std)\n",
        "\n",
        "# 誤分類のサンプルの個数を表示する\n",
        "print('Misclassified samples: %d' % (y_test != y_pred).sum())"
      ],
      "metadata": {
        "colab": {
          "base_uri": "https://localhost:8080/",
          "height": 201
        },
        "id": "GRmYagyghdqu",
        "outputId": "70496575-d184-4cb4-968e-16be112323b8"
      },
      "execution_count": null,
      "outputs": [
        {
          "output_type": "error",
          "ename": "NameError",
          "evalue": "ignored",
          "traceback": [
            "\u001b[0;31m---------------------------------------------------------------------------\u001b[0m",
            "\u001b[0;31mNameError\u001b[0m                                 Traceback (most recent call last)",
            "\u001b[0;32m<ipython-input-268-333f53f2a907>\u001b[0m in \u001b[0;36m<module>\u001b[0;34m()\u001b[0m\n\u001b[1;32m      9\u001b[0m \u001b[0;34m\u001b[0m\u001b[0m\n\u001b[1;32m     10\u001b[0m \u001b[0;31m# 誤分類のサンプルの個数を表示する\u001b[0m\u001b[0;34m\u001b[0m\u001b[0;34m\u001b[0m\u001b[0;34m\u001b[0m\u001b[0m\n\u001b[0;32m---> 11\u001b[0;31m \u001b[0mprint\u001b[0m\u001b[0;34m(\u001b[0m\u001b[0;34m'Misclassified samples: %d'\u001b[0m \u001b[0;34m%\u001b[0m \u001b[0;34m(\u001b[0m\u001b[0my_test\u001b[0m \u001b[0;34m!=\u001b[0m \u001b[0my_pred\u001b[0m\u001b[0;34m)\u001b[0m\u001b[0;34m.\u001b[0m\u001b[0msum\u001b[0m\u001b[0;34m(\u001b[0m\u001b[0;34m)\u001b[0m\u001b[0;34m)\u001b[0m\u001b[0;34m\u001b[0m\u001b[0;34m\u001b[0m\u001b[0m\n\u001b[0m",
            "\u001b[0;31mNameError\u001b[0m: name 'y_test' is not defined"
          ]
        }
      ]
    },
    {
      "cell_type": "code",
      "source": [
        ""
      ],
      "metadata": {
        "id": "TdZtKasSl1oy"
      },
      "execution_count": null,
      "outputs": []
    }
  ]
}